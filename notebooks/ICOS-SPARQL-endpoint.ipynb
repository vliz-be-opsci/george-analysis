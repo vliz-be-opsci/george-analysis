{
 "cells": [
  {
   "cell_type": "code",
   "execution_count": 2,
   "metadata": {},
   "outputs": [],
   "source": [
    "import pandas as pd\n",
    "from connec_functions import GDB"
   ]
  },
  {
   "cell_type": "markdown",
   "metadata": {},
   "source": [
    "### ICOS Carbon SPARQL Endpoint"
   ]
  },
  {
   "cell_type": "markdown",
   "metadata": {},
   "source": [
    "#### Notes/Findings:\n",
    "- sparql endpoint only queryable though browser interface, trying through code returns \"501: Not Implemented\"\n",
    "- general queries take long time to run\n",
    "- there is a set per-minute query quota\n",
    "- RDF ~ data standardized\n",
    "- Use of internally defined ontologies\n",
    "  - requires knowledge on the location of the ontologies / vocabularies and getting to know them ~~ less machine interoperable\n",
    "  - sidenote: prefixes not registered on prefix.cc ~ would increase findability (+ also registering in ontology catalogues/archives)\n",
    "- Also use of known & common ontologies such as dcat (see example SPARQL query \"DCAT metadata demo\")  \n",
    "*(note: to facilitate integration of data between different sources it would be better is data is described using common & well known ontologies/vocabularies + potential extension to those if domain specific information cannot be described by those ontologies)*\n",
    "\n",
    "- use of known & trusted standard terms for mediaType and license (e.g. MIME-Types using iana.org, licenses using CC-urls)\n",
    "- data granularity: file level\n",
    "  - data files are accessible with dcat:downloadUrl within a dcat:distribution (data points themselves are not described in RDF)"
   ]
  },
  {
   "cell_type": "code",
   "execution_count": 3,
   "metadata": {},
   "outputs": [
    {
     "ename": "HTTPError",
     "evalue": "HTTP Error 501: Not Implemented",
     "output_type": "error",
     "traceback": [
      "\u001b[0;31m---------------------------------------------------------------------------\u001b[0m",
      "\u001b[0;31mHTTPError\u001b[0m                                 Traceback (most recent call last)",
      "Cell \u001b[0;32mIn[3], line 3\u001b[0m\n\u001b[1;32m      1\u001b[0m \u001b[39m# Define the SPARQL endpoint URL\u001b[39;00m\n\u001b[1;32m      2\u001b[0m sparql_endpoint_url \u001b[39m=\u001b[39m \u001b[39m\"\u001b[39m\u001b[39mhttps://meta.icos-cp.eu/sparql\u001b[39m\u001b[39m\"\u001b[39m\n\u001b[0;32m----> 3\u001b[0m gdb \u001b[39m=\u001b[39m GDB(sparql_endpoint_url, \u001b[39m\"\u001b[39;49m\u001b[39mendpoint_queries\u001b[39;49m\u001b[39m\"\u001b[39;49m)\n\u001b[1;32m      4\u001b[0m gdb\u001b[39m.\u001b[39mexecute_to_df(\u001b[39m\"\u001b[39m\u001b[39mgeneral.sparql\u001b[39m\u001b[39m\"\u001b[39m) \n\u001b[1;32m      5\u001b[0m \u001b[39m# curl https://meta.icos-cp.eu/sparql -X POST --data 'query=PREFIX%20cpmeta%3A%20%3Chttp%3A%2F%2Fmeta.icos-cp.eu%2Fontologies%2Fcpmeta%2F%3E%0APREFIX%20rdfs%3A%20%3Chttp%3A%2F%2Fwww.w3.org%2F2000%2F01%2Frdf-schema%23%3E%0APREFIX%20cpst%3A%20%3Chttp%3A%2F%2Fmeta.icos-cp.eu%2Fontologies%2Fstationentry%2F%3E%0ASELECT%0A%28coalesce%28%3FtcName%2C%20%3FhoName%29%20as%20%3FName%29%0A%3FTheme%0A%28coalesce%28%3FtcClass%2C%20%3FhoClass%29%20as%20%3FClass%29%0A%28coalesce%28%3FtcCountry%2C%20%3FhoCountry%29%20as%20%3FCountry%29%0AFROM%20%3Chttp%3A%2F%2Fmeta.icos-cp.eu%2Fresources%2Fstationentry%2F%3E%0AFROM%20%3Chttp%3A%2F%2Fmeta.icos-cp.eu%2Fontologies%2Fstationentry%2F%3E%0AFROM%20%3Chttp%3A%2F%2Fmeta.icos-cp.eu%2Fresources%2Ficos%2F%3E%0AWHERE%20%7B%0A%09%3Fs%20cpst%3AhasCountry%20%3FhoCountry%20%3B%20cpst%3AhasLongName%20%3FhoName%20%3B%20cpst%3AhasStationClass%20%3FhoClass0%20%3B%20a%2Frdfs%3Alabel%20%3FTheme%20.%0A%09optional%7B%0A%09%09%3Fs%20cpst%3AhasProductionCounterpart%20%3Fprods%20.%0A%09%09bind%28iri%28%3Fprods%29%20as%20%3Fprod%29%20.%0A%09%09optional%7B%3Fprod%20cpmeta%3AhasName%20%3FtcName%20%7D%0A%09%09optional%7B%3Fprod%20cpmeta%3AhasStationClass%20%3FtcClass%7D%0A%09%09optional%7B%3Fprod%20cpmeta%3AcountryCode%20%3FtcCountry%7D%0A%09%7D%0A%09bind%28if%28contains%28%3FhoClass0%2C%20%27Ass%27%29%2C%20%27Associated%27%2C%20%3FhoClass0%29%20as%20%3FhoClass%29%0A%09filter%20exists%20%7B%3Fs%20cpst%3AhasShortName%20%5B%5D%7D%0A%7D%0Aorder%20by%20%3FTheme%20%3FName'\u001b[39;00m\n\u001b[1;32m      6\u001b[0m \u001b[39m# different compared to ARGO-ifremer SPARQL-endpoint (curl -X POST \"https://sparql.ifremer.fr/argo/query\" --data-urlencode \"query=select ?s ?o ?p where{?s ?o ?p.} limit 10\")\u001b[39;00m\n\u001b[1;32m      7\u001b[0m \u001b[39m# curl -X POST \"https://meta.icos-cp.eu/sparql\" --data-urlencode \"query=select ?s ?o ?p where{?s ?o ?p.} limit 10\" --> does work ...\u001b[39;00m\n",
      "File \u001b[0;32m~/Documents/GEORGE/notebooks/connec_functions.py:15\u001b[0m, in \u001b[0;36mGDB.__init__\u001b[0;34m(self, endpoint, queries_folder)\u001b[0m\n\u001b[1;32m     12\u001b[0m \u001b[39m#print(f\"{os.getenv('GDB_BASE')=}\")\u001b[39;00m\n\u001b[1;32m     13\u001b[0m \u001b[39m#print(f\"{GDB_BASE=}\")\u001b[39;00m\n\u001b[1;32m     14\u001b[0m \u001b[39mself\u001b[39m\u001b[39m.\u001b[39mGDB_ENDPOINT: \u001b[39mstr\u001b[39m \u001b[39m=\u001b[39m endpoint \u001b[39mif\u001b[39;00m endpoint \u001b[39melse\u001b[39;00m \u001b[39mf\u001b[39m\u001b[39m\"\u001b[39m\u001b[39m{\u001b[39;00m\u001b[39mself\u001b[39m\u001b[39m.\u001b[39mGDB_BASE\u001b[39m}\u001b[39;00m\u001b[39mrepositories/\u001b[39m\u001b[39m{\u001b[39;00m\u001b[39mself\u001b[39m\u001b[39m.\u001b[39mGDB_REPO\u001b[39m}\u001b[39;00m\u001b[39m\"\u001b[39m\n\u001b[0;32m---> 15\u001b[0m \u001b[39mself\u001b[39m\u001b[39m.\u001b[39mGDB: KGSource \u001b[39m=\u001b[39m KGSource\u001b[39m.\u001b[39;49mbuild(\u001b[39mself\u001b[39;49m\u001b[39m.\u001b[39;49mGDB_ENDPOINT)\n\u001b[1;32m     16\u001b[0m \u001b[39m#print(f\"{GDB_ENDPOINT=}\")\u001b[39;00m\n\u001b[1;32m     17\u001b[0m \u001b[39mself\u001b[39m\u001b[39m.\u001b[39mTEMPLATES_FOLDER \u001b[39m=\u001b[39m \u001b[39mstr\u001b[39m(Path()\u001b[39m.\u001b[39mabsolute() \u001b[39m/\u001b[39m \u001b[39m\"\u001b[39m\u001b[39mqueries\u001b[39m\u001b[39m\"\u001b[39m \u001b[39m/\u001b[39m queries_folder) \u001b[39mif\u001b[39;00m queries_folder \u001b[39melse\u001b[39;00m \u001b[39mstr\u001b[39m(Path()\u001b[39m.\u001b[39mabsolute() \u001b[39m/\u001b[39m \u001b[39m\"\u001b[39m\u001b[39mqueries\u001b[39m\u001b[39m\"\u001b[39m)\n",
      "File \u001b[0;32m~/.local/lib/python3.10/site-packages/pykg2tbl/kg2tbl.py:71\u001b[0m, in \u001b[0;36mKGSource.build\u001b[0;34m(*sources)\u001b[0m\n\u001b[1;32m     61\u001b[0m \u001b[39m\u001b[39m\u001b[39m\"\"\"\u001b[39;00m\n\u001b[1;32m     62\u001b[0m \u001b[39mKg2tbl main builder\u001b[39;00m\n\u001b[1;32m     63\u001b[0m \u001b[39m    export a tabular data file based on the users preferences.\u001b[39;00m\n\u001b[0;32m   (...)\u001b[0m\n\u001b[1;32m     67\u001b[0m \u001b[39m:rtype: KGSource\u001b[39;00m\n\u001b[1;32m     68\u001b[0m \u001b[39m\"\"\"\u001b[39;00m\n\u001b[1;32m     70\u001b[0m \u001b[39mfor\u001b[39;00m constructor \u001b[39min\u001b[39;00m KGSource\u001b[39m.\u001b[39mregistry:\n\u001b[0;32m---> 71\u001b[0m     \u001b[39mif\u001b[39;00m constructor\u001b[39m.\u001b[39;49mcheck_compatibility(\u001b[39m*\u001b[39;49msources) \u001b[39mis\u001b[39;00m \u001b[39mTrue\u001b[39;00m:\n\u001b[1;32m     72\u001b[0m         \u001b[39mreturn\u001b[39;00m constructor(\u001b[39m*\u001b[39msources)\n\u001b[1;32m     74\u001b[0m \u001b[39mraise\u001b[39;00m WrongInputFormat(\n\u001b[1;32m     75\u001b[0m     input_format\u001b[39m=\u001b[39m\u001b[39m\"\u001b[39m\u001b[39mstr, str, ...\u001b[39m\u001b[39m\"\u001b[39m, class_failed\u001b[39m=\u001b[39m\u001b[39m\"\u001b[39m\u001b[39mKGSource\u001b[39m\u001b[39m\"\u001b[39m\n\u001b[1;32m     76\u001b[0m )\n",
      "File \u001b[0;32m~/.local/lib/python3.10/site-packages/pykg2tbl/kg2tbl.py:154\u001b[0m, in \u001b[0;36mKGFileSource.check_compatibility\u001b[0;34m(*sources)\u001b[0m\n\u001b[1;32m    152\u001b[0m \u001b[39m@staticmethod\u001b[39m\n\u001b[1;32m    153\u001b[0m \u001b[39mdef\u001b[39;00m \u001b[39mcheck_compatibility\u001b[39m(\u001b[39m*\u001b[39msources: Tuple):\n\u001b[0;32m--> 154\u001b[0m     source_type \u001b[39m=\u001b[39m KGSource\u001b[39m.\u001b[39;49mdetect_source_type(\u001b[39m*\u001b[39;49msources)\n\u001b[1;32m    155\u001b[0m     \u001b[39mreturn\u001b[39;00m source_type \u001b[39m==\u001b[39m \u001b[39m\"\u001b[39m\u001b[39mfile\u001b[39m\u001b[39m\"\u001b[39m\n",
      "File \u001b[0;32m~/.local/lib/python3.10/site-packages/pykg2tbl/kg2tbl.py:92\u001b[0m, in \u001b[0;36mKGSource.detect_source_type\u001b[0;34m(*sources)\u001b[0m\n\u001b[1;32m     89\u001b[0m source_type \u001b[39m=\u001b[39m generator_of_source_types(\u001b[39m*\u001b[39msources)\n\u001b[1;32m     90\u001b[0m \u001b[39mif\u001b[39;00m \u001b[39misinstance\u001b[39m(source_type, Iterable):\n\u001b[1;32m     91\u001b[0m     \u001b[39m# In case the source type is a generator\u001b[39;00m\n\u001b[0;32m---> 92\u001b[0m     source_type \u001b[39m=\u001b[39m [f \u001b[39mfor\u001b[39;00m f \u001b[39min\u001b[39;00m source_type]\n\u001b[1;32m     93\u001b[0m     source_type \u001b[39m=\u001b[39m \u001b[39mset\u001b[39m(source_type)\n\u001b[1;32m     94\u001b[0m     \u001b[39m# For multiple inputs they need to have the same source_type\u001b[39;00m\n",
      "File \u001b[0;32m~/.local/lib/python3.10/site-packages/pykg2tbl/kg2tbl.py:92\u001b[0m, in \u001b[0;36m<listcomp>\u001b[0;34m(.0)\u001b[0m\n\u001b[1;32m     89\u001b[0m source_type \u001b[39m=\u001b[39m generator_of_source_types(\u001b[39m*\u001b[39msources)\n\u001b[1;32m     90\u001b[0m \u001b[39mif\u001b[39;00m \u001b[39misinstance\u001b[39m(source_type, Iterable):\n\u001b[1;32m     91\u001b[0m     \u001b[39m# In case the source type is a generator\u001b[39;00m\n\u001b[0;32m---> 92\u001b[0m     source_type \u001b[39m=\u001b[39m [f \u001b[39mfor\u001b[39;00m f \u001b[39min\u001b[39;00m source_type]\n\u001b[1;32m     93\u001b[0m     source_type \u001b[39m=\u001b[39m \u001b[39mset\u001b[39m(source_type)\n\u001b[1;32m     94\u001b[0m     \u001b[39m# For multiple inputs they need to have the same source_type\u001b[39;00m\n",
      "File \u001b[0;32m~/.local/lib/python3.10/site-packages/pykg2tbl/kg2tbl.py:234\u001b[0m, in \u001b[0;36mgenerator_of_source_types\u001b[0;34m(*source)\u001b[0m\n\u001b[1;32m    232\u001b[0m \u001b[39mfor\u001b[39;00m src \u001b[39min\u001b[39;00m source:\n\u001b[1;32m    233\u001b[0m     \u001b[39mif\u001b[39;00m src \u001b[39mand\u001b[39;00m \u001b[39misinstance\u001b[39m(src, \u001b[39mstr\u001b[39m):\n\u001b[0;32m--> 234\u001b[0m         \u001b[39myield\u001b[39;00m detect_single_source_type(src)\n\u001b[1;32m    235\u001b[0m     \u001b[39melse\u001b[39;00m:\n\u001b[1;32m    236\u001b[0m         \u001b[39myield\u001b[39;00m \u001b[39mNone\u001b[39;00m\n",
      "File \u001b[0;32m~/.local/lib/python3.10/site-packages/pykg2tbl/kg2tbl.py:218\u001b[0m, in \u001b[0;36mdetect_single_source_type\u001b[0;34m(source)\u001b[0m\n\u001b[1;32m    216\u001b[0m ep\u001b[39m.\u001b[39msetQuery(query_ask)\n\u001b[1;32m    217\u001b[0m ep\u001b[39m.\u001b[39msetReturnFormat(\u001b[39m\"\u001b[39m\u001b[39mjson\u001b[39m\u001b[39m\"\u001b[39m)\n\u001b[0;32m--> 218\u001b[0m query_info \u001b[39m=\u001b[39m ep\u001b[39m.\u001b[39;49mquery()\u001b[39m.\u001b[39minfo()\n\u001b[1;32m    219\u001b[0m content_type \u001b[39m=\u001b[39m query_info\u001b[39m.\u001b[39mget(\u001b[39m\"\u001b[39m\u001b[39mcontent-type\u001b[39m\u001b[39m\"\u001b[39m, \u001b[39m\"\u001b[39m\u001b[39m\"\u001b[39m)\n\u001b[1;32m    220\u001b[0m \u001b[39mif\u001b[39;00m \u001b[39m\"\u001b[39m\u001b[39msparql\u001b[39m\u001b[39m\"\u001b[39m \u001b[39min\u001b[39;00m content_type:\n",
      "File \u001b[0;32m~/.local/lib/python3.10/site-packages/SPARQLWrapper/Wrapper.py:960\u001b[0m, in \u001b[0;36mSPARQLWrapper.query\u001b[0;34m(self)\u001b[0m\n\u001b[1;32m    942\u001b[0m \u001b[39mdef\u001b[39;00m \u001b[39mquery\u001b[39m(\u001b[39mself\u001b[39m) \u001b[39m-\u001b[39m\u001b[39m>\u001b[39m \u001b[39m\"\u001b[39m\u001b[39mQueryResult\u001b[39m\u001b[39m\"\u001b[39m:\n\u001b[1;32m    943\u001b[0m \u001b[39m    \u001b[39m\u001b[39m\"\"\"\u001b[39;00m\n\u001b[1;32m    944\u001b[0m \u001b[39m    Execute the query.\u001b[39;00m\n\u001b[1;32m    945\u001b[0m \u001b[39m    Exceptions can be raised if either the URI is wrong or the HTTP sends back an error (this is also the\u001b[39;00m\n\u001b[0;32m   (...)\u001b[0m\n\u001b[1;32m    958\u001b[0m \u001b[39m    :rtype: :class:`QueryResult` instance\u001b[39;00m\n\u001b[1;32m    959\u001b[0m \u001b[39m    \"\"\"\u001b[39;00m\n\u001b[0;32m--> 960\u001b[0m     \u001b[39mreturn\u001b[39;00m QueryResult(\u001b[39mself\u001b[39;49m\u001b[39m.\u001b[39;49m_query())\n",
      "File \u001b[0;32m~/.local/lib/python3.10/site-packages/SPARQLWrapper/Wrapper.py:940\u001b[0m, in \u001b[0;36mSPARQLWrapper._query\u001b[0;34m(self)\u001b[0m\n\u001b[1;32m    938\u001b[0m     \u001b[39mraise\u001b[39;00m EndPointInternalError(e\u001b[39m.\u001b[39mread())\n\u001b[1;32m    939\u001b[0m \u001b[39melse\u001b[39;00m:\n\u001b[0;32m--> 940\u001b[0m     \u001b[39mraise\u001b[39;00m e\n",
      "File \u001b[0;32m~/.local/lib/python3.10/site-packages/SPARQLWrapper/Wrapper.py:926\u001b[0m, in \u001b[0;36mSPARQLWrapper._query\u001b[0;34m(self)\u001b[0m\n\u001b[1;32m    924\u001b[0m         response \u001b[39m=\u001b[39m urlopener(request, timeout\u001b[39m=\u001b[39m\u001b[39mself\u001b[39m\u001b[39m.\u001b[39mtimeout)\n\u001b[1;32m    925\u001b[0m     \u001b[39melse\u001b[39;00m:\n\u001b[0;32m--> 926\u001b[0m         response \u001b[39m=\u001b[39m urlopener(request)\n\u001b[1;32m    927\u001b[0m     \u001b[39mreturn\u001b[39;00m response, \u001b[39mself\u001b[39m\u001b[39m.\u001b[39mreturnFormat\n\u001b[1;32m    928\u001b[0m \u001b[39mexcept\u001b[39;00m urllib\u001b[39m.\u001b[39merror\u001b[39m.\u001b[39mHTTPError \u001b[39mas\u001b[39;00m e:\n",
      "File \u001b[0;32m/usr/lib/python3.10/urllib/request.py:216\u001b[0m, in \u001b[0;36murlopen\u001b[0;34m(url, data, timeout, cafile, capath, cadefault, context)\u001b[0m\n\u001b[1;32m    214\u001b[0m \u001b[39melse\u001b[39;00m:\n\u001b[1;32m    215\u001b[0m     opener \u001b[39m=\u001b[39m _opener\n\u001b[0;32m--> 216\u001b[0m \u001b[39mreturn\u001b[39;00m opener\u001b[39m.\u001b[39;49mopen(url, data, timeout)\n",
      "File \u001b[0;32m/usr/lib/python3.10/urllib/request.py:525\u001b[0m, in \u001b[0;36mOpenerDirector.open\u001b[0;34m(self, fullurl, data, timeout)\u001b[0m\n\u001b[1;32m    523\u001b[0m \u001b[39mfor\u001b[39;00m processor \u001b[39min\u001b[39;00m \u001b[39mself\u001b[39m\u001b[39m.\u001b[39mprocess_response\u001b[39m.\u001b[39mget(protocol, []):\n\u001b[1;32m    524\u001b[0m     meth \u001b[39m=\u001b[39m \u001b[39mgetattr\u001b[39m(processor, meth_name)\n\u001b[0;32m--> 525\u001b[0m     response \u001b[39m=\u001b[39m meth(req, response)\n\u001b[1;32m    527\u001b[0m \u001b[39mreturn\u001b[39;00m response\n",
      "File \u001b[0;32m/usr/lib/python3.10/urllib/request.py:634\u001b[0m, in \u001b[0;36mHTTPErrorProcessor.http_response\u001b[0;34m(self, request, response)\u001b[0m\n\u001b[1;32m    631\u001b[0m \u001b[39m# According to RFC 2616, \"2xx\" code indicates that the client's\u001b[39;00m\n\u001b[1;32m    632\u001b[0m \u001b[39m# request was successfully received, understood, and accepted.\u001b[39;00m\n\u001b[1;32m    633\u001b[0m \u001b[39mif\u001b[39;00m \u001b[39mnot\u001b[39;00m (\u001b[39m200\u001b[39m \u001b[39m<\u001b[39m\u001b[39m=\u001b[39m code \u001b[39m<\u001b[39m \u001b[39m300\u001b[39m):\n\u001b[0;32m--> 634\u001b[0m     response \u001b[39m=\u001b[39m \u001b[39mself\u001b[39;49m\u001b[39m.\u001b[39;49mparent\u001b[39m.\u001b[39;49merror(\n\u001b[1;32m    635\u001b[0m         \u001b[39m'\u001b[39;49m\u001b[39mhttp\u001b[39;49m\u001b[39m'\u001b[39;49m, request, response, code, msg, hdrs)\n\u001b[1;32m    637\u001b[0m \u001b[39mreturn\u001b[39;00m response\n",
      "File \u001b[0;32m/usr/lib/python3.10/urllib/request.py:563\u001b[0m, in \u001b[0;36mOpenerDirector.error\u001b[0;34m(self, proto, *args)\u001b[0m\n\u001b[1;32m    561\u001b[0m \u001b[39mif\u001b[39;00m http_err:\n\u001b[1;32m    562\u001b[0m     args \u001b[39m=\u001b[39m (\u001b[39mdict\u001b[39m, \u001b[39m'\u001b[39m\u001b[39mdefault\u001b[39m\u001b[39m'\u001b[39m, \u001b[39m'\u001b[39m\u001b[39mhttp_error_default\u001b[39m\u001b[39m'\u001b[39m) \u001b[39m+\u001b[39m orig_args\n\u001b[0;32m--> 563\u001b[0m     \u001b[39mreturn\u001b[39;00m \u001b[39mself\u001b[39;49m\u001b[39m.\u001b[39;49m_call_chain(\u001b[39m*\u001b[39;49margs)\n",
      "File \u001b[0;32m/usr/lib/python3.10/urllib/request.py:496\u001b[0m, in \u001b[0;36mOpenerDirector._call_chain\u001b[0;34m(self, chain, kind, meth_name, *args)\u001b[0m\n\u001b[1;32m    494\u001b[0m \u001b[39mfor\u001b[39;00m handler \u001b[39min\u001b[39;00m handlers:\n\u001b[1;32m    495\u001b[0m     func \u001b[39m=\u001b[39m \u001b[39mgetattr\u001b[39m(handler, meth_name)\n\u001b[0;32m--> 496\u001b[0m     result \u001b[39m=\u001b[39m func(\u001b[39m*\u001b[39;49margs)\n\u001b[1;32m    497\u001b[0m     \u001b[39mif\u001b[39;00m result \u001b[39mis\u001b[39;00m \u001b[39mnot\u001b[39;00m \u001b[39mNone\u001b[39;00m:\n\u001b[1;32m    498\u001b[0m         \u001b[39mreturn\u001b[39;00m result\n",
      "File \u001b[0;32m/usr/lib/python3.10/urllib/request.py:643\u001b[0m, in \u001b[0;36mHTTPDefaultErrorHandler.http_error_default\u001b[0;34m(self, req, fp, code, msg, hdrs)\u001b[0m\n\u001b[1;32m    642\u001b[0m \u001b[39mdef\u001b[39;00m \u001b[39mhttp_error_default\u001b[39m(\u001b[39mself\u001b[39m, req, fp, code, msg, hdrs):\n\u001b[0;32m--> 643\u001b[0m     \u001b[39mraise\u001b[39;00m HTTPError(req\u001b[39m.\u001b[39mfull_url, code, msg, hdrs, fp)\n",
      "\u001b[0;31mHTTPError\u001b[0m: HTTP Error 501: Not Implemented"
     ]
    }
   ],
   "source": [
    "# Define the SPARQL endpoint URL\n",
    "sparql_endpoint_url = \"https://meta.icos-cp.eu/sparql\"\n",
    "gdb = GDB(sparql_endpoint_url, \"endpoint_queries\")\n",
    "gdb.execute_to_df(\"general.sparql\") \n",
    "# curl https://meta.icos-cp.eu/sparql -X POST --data 'query=PREFIX%20cpmeta%3A%20%3Chttp%3A%2F%2Fmeta.icos-cp.eu%2Fontologies%2Fcpmeta%2F%3E%0APREFIX%20rdfs%3A%20%3Chttp%3A%2F%2Fwww.w3.org%2F2000%2F01%2Frdf-schema%23%3E%0APREFIX%20cpst%3A%20%3Chttp%3A%2F%2Fmeta.icos-cp.eu%2Fontologies%2Fstationentry%2F%3E%0ASELECT%0A%28coalesce%28%3FtcName%2C%20%3FhoName%29%20as%20%3FName%29%0A%3FTheme%0A%28coalesce%28%3FtcClass%2C%20%3FhoClass%29%20as%20%3FClass%29%0A%28coalesce%28%3FtcCountry%2C%20%3FhoCountry%29%20as%20%3FCountry%29%0AFROM%20%3Chttp%3A%2F%2Fmeta.icos-cp.eu%2Fresources%2Fstationentry%2F%3E%0AFROM%20%3Chttp%3A%2F%2Fmeta.icos-cp.eu%2Fontologies%2Fstationentry%2F%3E%0AFROM%20%3Chttp%3A%2F%2Fmeta.icos-cp.eu%2Fresources%2Ficos%2F%3E%0AWHERE%20%7B%0A%09%3Fs%20cpst%3AhasCountry%20%3FhoCountry%20%3B%20cpst%3AhasLongName%20%3FhoName%20%3B%20cpst%3AhasStationClass%20%3FhoClass0%20%3B%20a%2Frdfs%3Alabel%20%3FTheme%20.%0A%09optional%7B%0A%09%09%3Fs%20cpst%3AhasProductionCounterpart%20%3Fprods%20.%0A%09%09bind%28iri%28%3Fprods%29%20as%20%3Fprod%29%20.%0A%09%09optional%7B%3Fprod%20cpmeta%3AhasName%20%3FtcName%20%7D%0A%09%09optional%7B%3Fprod%20cpmeta%3AhasStationClass%20%3FtcClass%7D%0A%09%09optional%7B%3Fprod%20cpmeta%3AcountryCode%20%3FtcCountry%7D%0A%09%7D%0A%09bind%28if%28contains%28%3FhoClass0%2C%20%27Ass%27%29%2C%20%27Associated%27%2C%20%3FhoClass0%29%20as%20%3FhoClass%29%0A%09filter%20exists%20%7B%3Fs%20cpst%3AhasShortName%20%5B%5D%7D%0A%7D%0Aorder%20by%20%3FTheme%20%3FName'\n",
    "# different compared to ARGO-ifremer SPARQL-endpoint (curl -X POST \"https://sparql.ifremer.fr/argo/query\" --data-urlencode \"query=select ?s ?o ?p where{?s ?o ?p.} limit 10\")\n",
    "# curl -X POST \"https://meta.icos-cp.eu/sparql\" --data-urlencode \"query=select ?s ?o ?p where{?s ?o ?p.} limit 10\" --> does work ..."
   ]
  },
  {
   "cell_type": "markdown",
   "metadata": {},
   "source": [
    "**Queries executed to obtain view on self-declared classes & properties in data model of ICOS data**\n",
    "\n",
    "To obtain a view on the data model used to offer ICOS data as LD through the ICOS sparql endpoint, a number of sparql queries were executed and the results were then visualized as diagrams making use of Graphoo, which is a graphical framework for OWL ontologies ([specification](https://essepuntato.it/graffoo/)).\n",
    "\n",
    "The first query returns classes and properties used in the stationentry ontology\n",
    "```\n",
    "SELECT DISTINCT ?s ?p ?o\n",
    "FROM <http://meta.icos-cp.eu/ontologies/stationentry/>\n",
    "WHERE {\n",
    "\t?s ?p ?o .\n",
    "}\n",
    "LIMIT 1000\n",
    "```\n",
    "\n",
    "![Local Image](images/ICOS_CP_datamodel.drawio.png)\n",
    "\n",
    "\n",
    "The second query return classes and properties used in the cpmeta ontology\n",
    "```\n",
    "SELECT DISTINCT ?s ?p ?o \n",
    "FROM <http://meta.icos-cp.eu/ontologies/cpmeta/>\n",
    "WHERE {\n",
    "\t?s ?p ?o .\n",
    "}\n",
    "LIMIT 2000\n",
    "```\n",
    "\n",
    "(this is a preliminary diagram of data model diagram (not all classes/predicates yet included))\n",
    "\n",
    "![Local Image](images/ICOS_CP_datamodel2.drawio.png)\n"
   ]
  },
  {
   "cell_type": "markdown",
   "metadata": {},
   "source": [
    "**A few instance examples:**\n",
    "\n",
    "```\n",
    "SELECT DISTINCT ?s ?p ?o\n",
    "FROM <http://meta.icos-cp.eu/resources/stationentry/>\n",
    "#FROM <http://meta.icos-cp.eu/ontologies/stationentry/>\n",
    "#FROM <http://meta.icos-cp.eu/resources/icos/>\n",
    "WHERE {\n",
    "\t<http://meta.icos-cp.eu/ontologies/stationentry/ES/IT-Noe> ?p ?o .\n",
    "}\n",
    "LIMIT 1000\n",
    "```\n",
    "\n",
    "![Local Image](images/ICOS_CP_datamodel-instance%20example.drawio.png)\n",
    "\n",
    "\n",
    "\n",
    "```\n",
    "SELECT DISTINCT ?p ?o\n",
    "FROM <http://meta.icos-cp.eu/resources/stationentry/>\n",
    "#FROM <http://meta.icos-cp.eu/ontologies/stationentry/>\n",
    "#FROM <http://meta.icos-cp.eu/resources/icos/>\n",
    "WHERE {\n",
    "\t<http://meta.icos-cp.eu/ontologies/stationentry/PI/spano@uniss.it> ?p ?o .\n",
    "}\n",
    "LIMIT 1000\n",
    "```\n",
    "\n",
    "![Local Image](images/ICOS_CP_datamodel-instance%20example%202.drawio.png)\n"
   ]
  },
  {
   "cell_type": "markdown",
   "metadata": {},
   "source": []
  }
 ],
 "metadata": {
  "kernelspec": {
   "display_name": "Python 3",
   "language": "python",
   "name": "python3"
  },
  "language_info": {
   "codemirror_mode": {
    "name": "ipython",
    "version": 3
   },
   "file_extension": ".py",
   "mimetype": "text/x-python",
   "name": "python",
   "nbconvert_exporter": "python",
   "pygments_lexer": "ipython3",
   "version": "3.10.12"
  },
  "orig_nbformat": 4
 },
 "nbformat": 4,
 "nbformat_minor": 2
}
