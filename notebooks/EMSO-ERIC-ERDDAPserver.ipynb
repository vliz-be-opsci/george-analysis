{
 "cells": [
  {
   "cell_type": "code",
   "execution_count": null,
   "id": "4e5f5fe6-b7f7-4633-ad37-ebea401d65fa",
   "metadata": {},
   "outputs": [],
   "source": [
    "from erddapy import ERDDAP\n",
    "import netCDF4 as nc\n",
    "import pandas as pd\n",
    "from connec_functions import GDB"
   ]
  },
  {
   "cell_type": "markdown",
   "id": "b0e56b08-4542-4cf3-8054-1ce7a805b76b",
   "metadata": {},
   "source": [
    "### EMSO ERIC ERDDAP server"
   ]
  },
  {
   "cell_type": "code",
   "execution_count": null,
   "id": "972ba604",
   "metadata": {},
   "outputs": [],
   "source": [
    "# analysed endpoint:\n",
    "endpoint_url = \"https://erddap.emso.eu/erddap\""
   ]
  },
  {
   "cell_type": "markdown",
   "id": "0e2f9b38",
   "metadata": {},
   "source": [
    "### Analysis results:\n",
    "\n",
    "- datasets offered by the ERDDAP server directly return data  \n",
    "(compared to other ERDDAP server where you need an additional step to retrieve actual files)\n",
    "- requires knowledge on netCDF files \n",
    "- content of netCDF files:\n",
    "    - in some cases, there is use of OrcID and urls for creator  \n",
    "        --> good but inconsistent, incomplete (e.g. ROR-id for institutes) \n",
    "        --> why not for contributors, ...?  \n",
    "- allDatasets dataset is a dataset that contains metadata about all the datasets offered by the ERDDAP server, the properties (~ i.e. columns) with which this metadata is described is the same between ERDDAP servers (cf. comparing to EMSO-ERIC ERDDAP server)  "
   ]
  },
  {
   "cell_type": "code",
   "execution_count": null,
   "id": "4ddc4724",
   "metadata": {},
   "outputs": [],
   "source": [
    "#make connection\n",
    "emsoERDDAP = ERDDAP(\n",
    "    server=endpoint_url,\n",
    "    protocol=\"tabledap\"\n",
    ")"
   ]
  },
  {
   "cell_type": "code",
   "execution_count": null,
   "id": "8136ce7d-06ad-4936-84e3-c24405767fe1",
   "metadata": {},
   "outputs": [],
   "source": [
    "#get list of dataste IDs\n",
    "datasets = emsoERDDAP.get_search_url(response='csv')\n",
    "df = pd.read_csv(datasets)\n",
    "for dataset_id in df['Dataset ID']:\n",
    "    print(dataset_id)"
   ]
  },
  {
   "cell_type": "markdown",
   "id": "abd31848",
   "metadata": {},
   "source": [
    "**Exploration of the allDatasets dataset**  \n",
    "~ contains metadata about the datasets offered by the ERDDAP server"
   ]
  },
  {
   "cell_type": "code",
   "execution_count": null,
   "id": "f091778e",
   "metadata": {},
   "outputs": [],
   "source": [
    "# set dataset ID\n",
    "emsoERDDAP.dataset_id = \"allDatasets\""
   ]
  },
  {
   "cell_type": "code",
   "execution_count": null,
   "id": "7aef4385",
   "metadata": {},
   "outputs": [],
   "source": [
    "#Get data (as 2D dataframe)\n",
    "EMSO_alldatasets_df = emsoERDDAP.to_pandas()\n",
    "EMSO_alldatasets_df"
   ]
  },
  {
   "cell_type": "code",
   "execution_count": null,
   "id": "b7d2798a",
   "metadata": {},
   "outputs": [],
   "source": [
    "#explore columns\n",
    "EMSO_alldatasets_df.columns"
   ]
  },
  {
   "cell_type": "code",
   "execution_count": null,
   "id": "d60e4b1f",
   "metadata": {},
   "outputs": [],
   "source": [
    "#See if other metadata listed in allDatasets dataset\n",
    "for line in EMSO_alldatasets_df.summary:\n",
    "    print(line)"
   ]
  },
  {
   "cell_type": "code",
   "execution_count": null,
   "id": "65e1fae2",
   "metadata": {},
   "outputs": [],
   "source": [
    "# List unique values for each columns\n",
    "for col in EMSO_alldatasets_df.columns:\n",
    "    if col not in ['datasetID', 'summary', 'title', 'minLongitude (degrees_east)','maxLongitude (degrees_east)', 'longitudeSpacing (degrees_east)','minLatitude (degrees_north)', 'maxLatitude (degrees_north)','latitudeSpacing (degrees_north)', 'minAltitude (m)', 'maxAltitude (m)','minTime (UTC)', 'maxTime (UTC)', 'timeSpacing (seconds)']:\n",
    "        print(col)\n",
    "        print(EMSO_alldatasets_df[col].unique())"
   ]
  },
  {
   "cell_type": "markdown",
   "id": "af808cea",
   "metadata": {},
   "source": [
    "**Exploration of the EMSO_OBSEA_CTD_30min dataset**"
   ]
  },
  {
   "cell_type": "code",
   "execution_count": null,
   "id": "0865dbac",
   "metadata": {},
   "outputs": [],
   "source": [
    "# set a dataset ID\n",
    "emsoERDDAP.dataset_id = \"EMSO_OBSEA_CTD_30min\""
   ]
  },
  {
   "cell_type": "code",
   "execution_count": null,
   "id": "a1584b49",
   "metadata": {},
   "outputs": [],
   "source": [
    "#try get various kinds of info\n",
    "search_url = emsoERDDAP.get_search_url()\n",
    "download_url = emsoERDDAP.get_download_url()\n",
    "info_url = emsoERDDAP.get_info_url()\n",
    "\n",
    "print(f\"search_url: {search_url},\\ndownload_url: {download_url},\\ninfo_url: {info_url}\")"
   ]
  },
  {
   "cell_type": "code",
   "execution_count": null,
   "id": "ed2126e7",
   "metadata": {},
   "outputs": [],
   "source": [
    "# get & view data (as 2D DataFrame)\n",
    "EMSO_OBSEA_CTD_30min_df = emsoERDDAP.to_pandas()\n",
    "EMSO_OBSEA_CTD_30min_df"
   ]
  },
  {
   "cell_type": "code",
   "execution_count": null,
   "id": "8cb3704d",
   "metadata": {},
   "outputs": [],
   "source": [
    "#explore columns\n",
    "EMSO_OBSEA_CTD_30min_df.columns"
   ]
  },
  {
   "cell_type": "code",
   "execution_count": null,
   "id": "de135795",
   "metadata": {},
   "outputs": [],
   "source": [
    "# List unique values for each columns\n",
    "for col in EMSO_OBSEA_CTD_30min_df.columns:\n",
    "    print(col)\n",
    "    print(EMSO_OBSEA_CTD_30min_df[col].unique())"
   ]
  },
  {
   "cell_type": "code",
   "execution_count": null,
   "id": "c01f3a76",
   "metadata": {},
   "outputs": [],
   "source": [
    "#get data (as netCDF)\n",
    "EMSO_OBSEA_CTD_30min_ncCF = emsoERDDAP.to_ncCF()\n",
    "EMSO_OBSEA_CTD_30min_ncCF"
   ]
  },
  {
   "cell_type": "code",
   "execution_count": null,
   "id": "8b50fa36",
   "metadata": {},
   "outputs": [],
   "source": [
    "#list information on the dataset\n",
    "print(f\"GLOBAL ATTRIBUTES: {list(EMSO_OBSEA_CTD_30min_ncCF.ncattrs())}\")\n",
    "print(f\"DIMENSIONS: {list(EMSO_OBSEA_CTD_30min_ncCF.dimensions.keys())}\")\n",
    "print(f\"VARIABLES: {list(EMSO_OBSEA_CTD_30min_ncCF.variables.keys())}\")"
   ]
  },
  {
   "cell_type": "code",
   "execution_count": null,
   "id": "739bfaaa",
   "metadata": {},
   "outputs": [],
   "source": [
    "#for the given list of variables-of-interest, \n",
    "# list the dimension(s) in which they occur, their shape and associated units \n",
    "variables_of_interest = ['time', 'latitude', 'depth', 'PSAL', 'TEMP', 'PSAL_QC']\n",
    "\n",
    "for var in variables_of_interest:\n",
    "    EMSO_OBSEA_CTD_30min_ncCF_var = EMSO_OBSEA_CTD_30min_ncCF.variables[var]\n",
    "    print(var.upper())\n",
    "\n",
    "    print(f\"dimensions: {EMSO_OBSEA_CTD_30min_ncCF_var.dimensions}\")\n",
    "    print(f\"shape: {EMSO_OBSEA_CTD_30min_ncCF_var.shape}\")\n",
    "    print(f\"units: {EMSO_OBSEA_CTD_30min_ncCF_var.units}\")\n",
    "\n",
    "    data = EMSO_OBSEA_CTD_30min_ncCF_var[:]\n",
    "    print(f\"data: {data}\")\n"
   ]
  },
  {
   "cell_type": "markdown",
   "id": "3f8b63a8",
   "metadata": {},
   "source": [
    "**Exploration of the E2M3A_SAMI dataset**"
   ]
  },
  {
   "cell_type": "code",
   "execution_count": null,
   "id": "818b6218",
   "metadata": {},
   "outputs": [],
   "source": [
    "#Set dataset ID\n",
    "emsoERDDAP.dataset_id = \"E2M3A_SAMI\""
   ]
  },
  {
   "cell_type": "code",
   "execution_count": null,
   "id": "3efbd9b2",
   "metadata": {},
   "outputs": [],
   "source": [
    "#get data (as dataframe)\n",
    "E2M3A_SAMI_df = emsoERDDAP.to_pandas()\n",
    "E2M3A_SAMI_df"
   ]
  },
  {
   "cell_type": "code",
   "execution_count": null,
   "id": "01a5c010",
   "metadata": {},
   "outputs": [],
   "source": [
    "#explore columns\n",
    "E2M3A_SAMI_df.columns"
   ]
  },
  {
   "cell_type": "code",
   "execution_count": null,
   "id": "1fb7fb02",
   "metadata": {},
   "outputs": [],
   "source": [
    "# List unique values for each columns\n",
    "for col in E2M3A_SAMI_df.columns:\n",
    "    if col not in ['time (UTC)']:\n",
    "        print(col)\n",
    "        print(E2M3A_SAMI_df[col].unique())"
   ]
  },
  {
   "cell_type": "code",
   "execution_count": null,
   "id": "5ef81ba4",
   "metadata": {},
   "outputs": [],
   "source": [
    "#get data (as netCDF)\n",
    "E2M3A_SAMI_nc = emsoERDDAP.to_ncCF()\n",
    "E2M3A_SAMI_nc"
   ]
  },
  {
   "cell_type": "code",
   "execution_count": null,
   "id": "95bb85bf",
   "metadata": {},
   "outputs": [],
   "source": [
    "#list information on the dataset\n",
    "print(f\"GLOBAL ATTRIBUTES: {list(E2M3A_SAMI_nc.ncattrs())}\")\n",
    "print(f\"DIMENSIONS: {list(E2M3A_SAMI_nc.dimensions.keys())}\")\n",
    "print(f\"VARIABLES: {list(E2M3A_SAMI_nc.variables.keys())}\")\n"
   ]
  },
  {
   "cell_type": "markdown",
   "id": "71186da3",
   "metadata": {},
   "source": [
    "**Exploration of the EMSO-AZORES_TCM3-1_2016-2017 dataset**"
   ]
  },
  {
   "cell_type": "code",
   "execution_count": null,
   "id": "765b3948",
   "metadata": {},
   "outputs": [],
   "source": [
    "#Set dataset ID\n",
    "emsoERDDAP.dataset_id = \"EMSO-AZORES_TCM3-1_2016-2017\""
   ]
  },
  {
   "cell_type": "code",
   "execution_count": null,
   "id": "9830e714",
   "metadata": {},
   "outputs": [],
   "source": [
    "#get data (as dataframe)\n",
    "EMSO_AZORES_TCM3_1_2016_2017_df = emsoERDDAP.to_pandas()\n",
    "EMSO_AZORES_TCM3_1_2016_2017_df"
   ]
  },
  {
   "cell_type": "code",
   "execution_count": null,
   "id": "abc80c26",
   "metadata": {},
   "outputs": [],
   "source": [
    "#explore columns \n",
    "EMSO_AZORES_TCM3_1_2016_2017_df.columns"
   ]
  },
  {
   "cell_type": "code",
   "execution_count": null,
   "id": "c8775ebe",
   "metadata": {},
   "outputs": [],
   "source": [
    "# List unique values for each columns\n",
    "for col in EMSO_AZORES_TCM3_1_2016_2017_df.columns:\n",
    "    print(col)\n",
    "    print(EMSO_AZORES_TCM3_1_2016_2017_df[col].unique())"
   ]
  },
  {
   "cell_type": "code",
   "execution_count": null,
   "id": "d34af2b0",
   "metadata": {},
   "outputs": [],
   "source": [
    "#get data (as netCDF)\n",
    "EMSO_AZORES_TCM3_1_2016_2017_nc = emsoERDDAP.to_ncCF()\n",
    "EMSO_AZORES_TCM3_1_2016_2017_nc"
   ]
  },
  {
   "cell_type": "code",
   "execution_count": null,
   "id": "ec935e90",
   "metadata": {},
   "outputs": [],
   "source": [
    "#list information on the dataset\n",
    "print(f\"GLOBAL ATTRIBUTES: {list(EMSO_AZORES_TCM3_1_2016_2017_nc.ncattrs())}\")\n",
    "print(f\"DIMENSIONS: {list(EMSO_AZORES_TCM3_1_2016_2017_nc.dimensions.keys())}\")\n",
    "print(f\"VARIABLES: {list(EMSO_AZORES_TCM3_1_2016_2017_nc.variables.keys())}\")\n"
   ]
  },
  {
   "cell_type": "code",
   "execution_count": null,
   "id": "47d6238e",
   "metadata": {},
   "outputs": [],
   "source": [
    "#for the given list of variables-of-interest, \n",
    "# list the dimension(s) in which they occur, their shape and associated units \n",
    "for var in EMSO_AZORES_TCM3_1_2016_2017_nc.variables:\n",
    "    print(\"Variable: \", var)\n",
    "\n",
    "    variable = EMSO_AZORES_TCM3_1_2016_2017_nc[var]\n",
    "    print(\"    In dimensions: \", variable.dimensions)\n"
   ]
  },
  {
   "cell_type": "markdown",
   "id": "2a5310be",
   "metadata": {},
   "source": [
    "**Exploration of the W1M3A_deploy07 dataset**"
   ]
  },
  {
   "cell_type": "code",
   "execution_count": null,
   "id": "2b66b601",
   "metadata": {},
   "outputs": [],
   "source": [
    "#Set a different dataset ID\n",
    "emsoERDDAP.dataset_id = \"W1M3A_deploy07\""
   ]
  },
  {
   "cell_type": "code",
   "execution_count": null,
   "id": "8443c0c8",
   "metadata": {},
   "outputs": [],
   "source": [
    "#get data (as dataframe)\n",
    "W1M3A_deploy07_df = emsoERDDAP.to_pandas()\n",
    "W1M3A_deploy07_df"
   ]
  },
  {
   "cell_type": "code",
   "execution_count": null,
   "id": "07f8d328",
   "metadata": {},
   "outputs": [],
   "source": [
    "#explore columns\n",
    "W1M3A_deploy07_df.columns"
   ]
  },
  {
   "cell_type": "code",
   "execution_count": null,
   "id": "82469930",
   "metadata": {},
   "outputs": [],
   "source": [
    "#compare columns between datasets\n",
    "print(list(E2M3A_SAMI_df.columns))\n",
    "print(list(EMSO_OBSEA_CTD_30min_df.columns))\n",
    "print(list(EMSO_AZORES_TCM3_1_2016_2017_df.columns))\n",
    "print(list(W1M3A_deploy07_df.columns))"
   ]
  },
  {
   "cell_type": "code",
   "execution_count": null,
   "id": "43e14070",
   "metadata": {},
   "outputs": [],
   "source": [
    "#check if other metadata info available \n",
    "for line in W1M3A_deploy07_df.summary:\n",
    "    print(line)"
   ]
  },
  {
   "cell_type": "code",
   "execution_count": null,
   "id": "474f7666",
   "metadata": {},
   "outputs": [],
   "source": [
    "#get data (as netCDF)\n",
    "W1M3A_deploy07_nc = emsoERDDAP.to_ncCF()\n",
    "W1M3A_deploy07_nc"
   ]
  },
  {
   "cell_type": "code",
   "execution_count": null,
   "id": "9caf8e52",
   "metadata": {},
   "outputs": [],
   "source": [
    "#list information on the dataset\n",
    "print(f\"GLOBAL ATTRIBUTES: {list(W1M3A_deploy07_nc.ncattrs())}\")\n",
    "print(f\"DIMENSIONS: {list(W1M3A_deploy07_nc.dimensions.keys())}\")\n",
    "print(f\"VARIABLES: {list(W1M3A_deploy07_nc.variables.keys())}\")"
   ]
  },
  {
   "cell_type": "code",
   "execution_count": null,
   "id": "ea591942",
   "metadata": {},
   "outputs": [],
   "source": [
    "#for the given list of variables-of-interest, \n",
    "# list the dimension(s) in which they occur, their shape and associated units \n",
    "for var in W1M3A_deploy07_nc.variables:\n",
    "    print(\"Variable: \", var)\n",
    "\n",
    "    variable = W1M3A_deploy07_nc[var]\n",
    "    print(\"    In dimensions: \", variable.dimensions)\n"
   ]
  }
 ],
 "metadata": {
  "kernelspec": {
   "display_name": "Python 3 (ipykernel)",
   "language": "python",
   "name": "python3"
  },
  "language_info": {
   "codemirror_mode": {
    "name": "ipython",
    "version": 3
   },
   "file_extension": ".py",
   "mimetype": "text/x-python",
   "name": "python",
   "nbconvert_exporter": "python",
   "pygments_lexer": "ipython3",
   "version": "3.10.12"
  }
 },
 "nbformat": 4,
 "nbformat_minor": 5
}
