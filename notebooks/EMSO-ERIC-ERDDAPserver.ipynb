{
 "cells": [
  {
   "cell_type": "code",
   "execution_count": 1,
   "id": "4e5f5fe6-b7f7-4633-ad37-ebea401d65fa",
   "metadata": {},
   "outputs": [],
   "source": [
    "from erddapy import ERDDAP\n",
    "import netCDF4 as nc\n",
    "import pandas as pd\n",
    "from connec_functions import GDB\n",
    "from collections import defaultdict\n",
    "\n",
    "from accessibility import check_endpoint\n",
    "from summarize import * #json_keys, data_frame"
   ]
  },
  {
   "cell_type": "markdown",
   "id": "b0e56b08-4542-4cf3-8054-1ce7a805b76b",
   "metadata": {},
   "source": [
    "### EMSO ERIC ERDDAP server"
   ]
  },
  {
   "cell_type": "code",
   "execution_count": 2,
   "id": "972ba604",
   "metadata": {},
   "outputs": [],
   "source": [
    "# analysed endpoint:\n",
    "endpoint_url = \"https://erddap.emso.eu/erddap\"\n",
    "\n",
    "#make connection\n",
    "emsoERDDAP = ERDDAP(server=endpoint_url, protocol=\"tabledap\")"
   ]
  },
  {
   "cell_type": "code",
   "execution_count": null,
   "id": "026650bb",
   "metadata": {},
   "outputs": [],
   "source": [
    "if check_endpoint(endpoint_url):\n",
    "    print(\"The endpoint is machine-accessible.\")\n",
    "else:\n",
    "    print(\"The endpoint is not machine-accessible.\")"
   ]
  },
  {
   "cell_type": "markdown",
   "id": "0e2f9b38",
   "metadata": {},
   "source": [
    "### Analysis results:\n",
    "\n",
    "- datasets offered by the ERDDAP server directly return data  \n",
    "(compared to other ERDDAP server where you need an additional step to retrieve actual files)\n",
    "- requires knowledge on netCDF files \n",
    "- content of netCDF files:\n",
    "    - in some cases, there is use of OrcID and urls for creator  \n",
    "        --> good but inconsistent, incomplete (e.g. ROR-id for institutes) \n",
    "        --> why not for contributors, ...?  \n",
    "- allDatasets dataset is a dataset that contains metadata about all the datasets offered by the ERDDAP server, the properties (~ i.e. columns) with which this metadata is described is the same between ERDDAP servers (cf. comparing to EMSO-ERIC ERDDAP server)  "
   ]
  },
  {
   "cell_type": "markdown",
   "id": "abd31848",
   "metadata": {},
   "source": [
    "**Exploration of the allDatasets dataset**  \n",
    "~ retrieving a dataset that lists all available datasets on the ERDDAP server. The returned DataFrame will contain metadata for each dataset available on that server  \n",
    "~ essentially a catalog of all datasets hosted on the server, including essential metadata that allows you to identify and filter the datasets of interest  "
   ]
  },
  {
   "cell_type": "code",
   "execution_count": 3,
   "id": "f091778e",
   "metadata": {},
   "outputs": [],
   "source": [
    "# set dataset ID\n",
    "emsoERDDAP.dataset_id = \"allDatasets\"\n",
    "\n",
    "#Get data (as 2D dataframe)\n",
    "EMSO_alldatasets_df = emsoERDDAP.to_pandas()"
   ]
  },
  {
   "cell_type": "code",
   "execution_count": null,
   "id": "b7d2798a",
   "metadata": {},
   "outputs": [],
   "source": [
    "#explore columns\n",
    "EMSO_alldatasets_df.columns"
   ]
  },
  {
   "cell_type": "code",
   "execution_count": null,
   "id": "7aef4385",
   "metadata": {},
   "outputs": [],
   "source": [
    "# view\n",
    "EMSO_alldatasets_df\n",
    "# save\n",
    "EMSO_alldatasets_df.to_csv(\"properties/EMSO_ERDDAP_overview_metadata.csv\", index=False)"
   ]
  },
  {
   "cell_type": "code",
   "execution_count": null,
   "id": "204b154b",
   "metadata": {},
   "outputs": [],
   "source": [
    "print(f\"There are {len(EMSO_alldatasets_df['datasetID'].drop_duplicates())} datasets offered by the EMSO ERDDAP server\")"
   ]
  },
  {
   "cell_type": "code",
   "execution_count": null,
   "id": "36d84132",
   "metadata": {},
   "outputs": [],
   "source": [
    "#See if other metadata listed in allDatasets dataset\n",
    "for line in EMSO_alldatasets_df.summary:\n",
    "    print(line)"
   ]
  },
  {
   "cell_type": "markdown",
   "id": "c5c39bf9",
   "metadata": {},
   "source": [
    "Exploration of **search information** for each data offered through the ERDDAP server"
   ]
  },
  {
   "cell_type": "code",
   "execution_count": null,
   "id": "4930e5b0",
   "metadata": {},
   "outputs": [],
   "source": [
    "# get search information\n",
    "searchinfo_df = pd.read_csv(emsoERDDAP.get_search_url(response=\"csv\"))"
   ]
  },
  {
   "cell_type": "code",
   "execution_count": null,
   "id": "92402b91",
   "metadata": {},
   "outputs": [],
   "source": [
    "searchinfo_df.columns"
   ]
  },
  {
   "cell_type": "code",
   "execution_count": null,
   "id": "14537170",
   "metadata": {},
   "outputs": [],
   "source": [
    "searchinfo_df"
   ]
  },
  {
   "cell_type": "markdown",
   "id": "87757615",
   "metadata": {},
   "source": [
    "Exploration of **metadata information** available for each dataset offered through the ERDDAP server"
   ]
  },
  {
   "cell_type": "code",
   "execution_count": null,
   "id": "0cdfb859",
   "metadata": {},
   "outputs": [],
   "source": [
    "# Metadata information for each dataset\n",
    "metadatainfo_df = pd.DataFrame(columns=[\"Row Type\", \"Variable Name\", \"Attribute Name\", \"Data Type\", \"Value\", \"DatasetID\"])\n",
    "# get metadata for each dataset\n",
    "for datasetID in EMSO_alldatasets_df['datasetID']:\n",
    "    emsoERDDAP.dataset_id = datasetID\n",
    "    try:\n",
    "        _df = pd.read_csv(emsoERDDAP.get_info_url(response=\"csv\")) #metadata retrieved via info_url\n",
    "        _df[\"DatasetID\"] = datasetID\n",
    "        metadatainfo_df = pd.concat([metadatainfo_df, _df], ignore_index=True)\n",
    "    except Exception as e:\n",
    "        print(f\"there was an error for {datasetID}: '{e}'\")\n",
    "        continue\n",
    "\n",
    "# save to csv file\n",
    "metadatainfo_df.to_csv(\"properties/EMSO_ERDDAP_dataset_metadata.csv\", index=False)\n",
    "\n",
    "metadatainfo_df"
   ]
  },
  {
   "cell_type": "code",
   "execution_count": null,
   "id": "cc2d59b8",
   "metadata": {},
   "outputs": [],
   "source": [
    "# explore returned metadata\n",
    "metadatainfo_df.groupby(['DatasetID', 'Row Type']).nunique()"
   ]
  },
  {
   "cell_type": "code",
   "execution_count": null,
   "id": "3e9f2582",
   "metadata": {},
   "outputs": [],
   "source": [
    "# Explore the dimensions of each dataset (Row Type = 'dimension')\n",
    "dim_info = metadatainfo_df[ metadatainfo_df['Row Type'] == 'dimension'].groupby(['DatasetID', 'Variable Name']).nunique()\n",
    "\n",
    "dim_info.to_csv(\"properties/EMSO_ERDDAP_dataset_dimensions.csv\", index=False)\n",
    "\n",
    "dim_info"
   ]
  },
  {
   "cell_type": "code",
   "execution_count": null,
   "id": "451c9351",
   "metadata": {},
   "outputs": [],
   "source": [
    "# Explore the variables of each dataset (Row Type = 'variable')\n",
    "#note: in netCDFs, attributes represent additional information \n",
    "var_info = metadatainfo_df[ metadatainfo_df['Row Type'] == 'variable'].groupby(['DatasetID', 'Variable Name']).agg({\n",
    "        'Data Type': 'unique',\n",
    "        'Value': 'unique'\n",
    "    }).reset_index()\n",
    "\n",
    "var_info.to_csv(\"properties/EMSO_ERDDAP_dataset_variables.csv\", index=False)\n",
    "\n",
    "var_info"
   ]
  },
  {
   "cell_type": "code",
   "execution_count": null,
   "id": "de09df1d",
   "metadata": {},
   "outputs": [],
   "source": [
    "# Explore the attributes of each dataset (Row Type = 'attribute')\n",
    "metadatainfo_df[ metadatainfo_df['Row Type'] == 'attribute'].groupby(['DatasetID', 'Attribute Name']).nunique()"
   ]
  },
  {
   "cell_type": "code",
   "execution_count": null,
   "id": "c0d141e6",
   "metadata": {},
   "outputs": [],
   "source": [
    "# and the variables/dimensions with which they're associated \n",
    "attr_info = metadatainfo_df[ metadatainfo_df['Row Type'] == 'attribute'].groupby(['DatasetID', 'Attribute Name', 'Variable Name']).agg({\n",
    "        'Data Type': 'unique',\n",
    "        'Value': 'unique'\n",
    "    }).reset_index()\n",
    "\n",
    "attr_info.to_csv(\"properties/EMSO_ERDDAP_dataset_attributes.csv\", index=False)\n",
    "\n",
    "attr_info"
   ]
  },
  {
   "cell_type": "markdown",
   "id": "f0ac6a5a",
   "metadata": {},
   "source": [
    "Exploration of **data** from each dataset offered through the ERDDAP server, by accessing as pd.DataFrame  \n",
    "(less efficient than accessing as ncCF)"
   ]
  },
  {
   "cell_type": "code",
   "execution_count": 4,
   "id": "769e98f3",
   "metadata": {},
   "outputs": [
    {
     "name": "stdout",
     "output_type": "stream",
     "text": [
      "there are 171 datasets available via EMSO ERDDAP\n",
      "Processing dataset: allDatasets\n",
      "Processing dataset: EMSO_OBSEA_CTD_30min\n",
      "Processing dataset: EMSO_OBSEA_Besos_Buoy_Airmar_200WX_30min\n",
      "Processing dataset: EMSO_OBSEA_Besos_Buoy_Airmar_200WX_full\n",
      "Processing dataset: E2M3A_METEO\n",
      "Processing dataset: E2M3A_MRDT\n",
      "Processing dataset: E2M3A_PCO2PROA\n",
      "Processing dataset: E2M3A_PCO2PROW\n",
      "Processing dataset: E2M3A_SAMI\n",
      "Processing dataset: E2M3A_SBE16PLS\n",
      "Processing dataset: E2M3A_SBE37O\n",
      "Processing dataset: E2M3A_CTD_meteo_CO2_pH_NRT\n",
      "Processing dataset: E2M3A_2021_2022_TS\n",
      "Processing dataset: Emso_Azores_Chemini_IRON\n",
      "Processing dataset: EMSO-AZORES_TCM3-1_2016-2017\n",
      "Processing dataset: EMSO-AZORES_TCM3-1_2017-2018\n",
      "Processing dataset: EMSO-AZORES_TCM3-1_2018-2019\n",
      "Processing dataset: EMSO-AZORES_TCM3-1_2021-2022\n",
      "Processing dataset: EMSO-AZORES_TCM3-2_2017-2018\n",
      "Processing dataset: EMSO-AZORES_TCM3-2_2018-2019\n",
      "Processing dataset: EMSO-AZORES_TCM3-2_2019-2020\n",
      "Processing dataset: EMSO-AZORES_TCM3-2_2020-2021\n",
      "Processing dataset: EMSO-AZORES_TCM3-3_2016-2017\n",
      "Processing dataset: EMSO-AZORES_TCM3-3_2017-2018\n",
      "Processing dataset: EMSO-AZORES_TCM3-3_2018-2019\n",
      "Processing dataset: EMSO-AZORES_TCM3-3_2019-2020\n",
      "Processing dataset: EMSO-AZORES_TCM3-3_2020-2021\n",
      "Processing dataset: EMSO-AZORES_TCM3-3_2021-2022\n",
      "Processing dataset: EMSO-AZORES_TCM3-A_2020-2021\n",
      "Processing dataset: EMSO-AZORES_TCM3-B_2020-2021\n",
      "Processing dataset: EMSO-AZORES_TCM3-B_2021-2022\n",
      "Processing dataset: EMSO-AZORES_TCM3-C_2020-2021\n",
      "Processing dataset: EMSO-AZORES_TCM3-C_2021-2022\n",
      "Processing dataset: EMSO-AZORES_TCM3-D_2020-2021\n",
      "Processing dataset: EMSO-AZORES_TCM3-D_2021-2022\n",
      "Processing dataset: BB_505_ADCP\n",
      "There was an error for BB_505_ADCP: The read operation timed out\n",
      "Processing dataset: BB_567_SBE56\n",
      "Processing dataset: BB_584_SBE56\n",
      "Processing dataset: BB_591_SBE56\n",
      "Processing dataset: BB_595_CTD\n",
      "Processing dataset: FF_644_ADCP\n",
      "Processing dataset: FF_700_SBE56\n",
      "Processing dataset: FF_717_SBE56\n",
      "Processing dataset: FF_734_CTD\n",
      "Processing dataset: Emso_Ligure_Dyfamed_FCO2TW\n",
      "Processing dataset: Emso_Ligure_Dyfamed_TSCTD\n",
      "Processing dataset: Emso_Ligure_Dyfamed_TScurrents\n",
      "Processing dataset: Emso_Ligure_Dyfamed_SedimentTrap\n",
      "Processing dataset: Emso_Ligure_Dyfamed_TSO2\n",
      "Processing dataset: Emso_Ligure_Dyfamed_TSOF\n",
      "Processing dataset: Emso_Western_Ligurian_Albatross_Aquadopp_NetCDF_2014\n",
      "Processing dataset: Emso_Western_Ligurian_Albatross_Aquadopp_NetCDF_2015\n",
      "Processing dataset: Emso_Western_Ligurian_Albatross_Aquadopp_NetCDF_2016\n",
      "Processing dataset: Emso_Western_Ligurian_Albatross_Aquadopp_NetCDF_2018\n",
      "Processing dataset: Emso_Western_Ligurian_Albatross_Aquadopp_NetCDF_2021\n",
      "Processing dataset: Emso_Western_Ligurian_Albatross_Aquadopp_NetCDF_2024\n",
      "Processing dataset: Emso_Western_Ligurian_Albatross_Microcat_NetCDF_2014\n",
      "Processing dataset: Emso_Western_Ligurian_Albatross_Microcat_NetCDF_2015\n",
      "Processing dataset: Emso_Western_Ligurian_Albatross_Microcat_NetCDF_2016\n",
      "Processing dataset: Emso_Western_Ligurian_Albatross_Microcat_NetCDF_2018\n",
      "Processing dataset: Emso_Western_Ligurian_Albatross_Microcat_NetCDF_2019\n",
      "Processing dataset: Emso_Western_Ligurian_Albatross_Microcat_NetCDF_2021\n",
      "Processing dataset: Emso_Western_Ligurian_Albatross_Microcat_NetCDF_2024\n",
      "Processing dataset: Emso_Western_Ligurian_MII_Aquadopp_NetCDF_2017\n",
      "Processing dataset: Emso_Western_Ligurian_MII_Cstar_NetCDF_2017\n",
      "Processing dataset: Emso_Western_Ligurian_MII_Microcat_NetCDF_2017\n",
      "Processing dataset: Emso_Western_Ligurian_MII_Oxygen_NetCDF_2017\n",
      "Processing dataset: EMSO-AZORES_SBE53_East_2016_2017\n",
      "Processing dataset: EMSO-AZORES_SBE53_West_2016_2017\n",
      "Processing dataset: EMSO-AZORES_SBE53_East_2018_2019\n",
      "Processing dataset: EMSO-AZORES_SBE53_West_2018_2019\n",
      "Processing dataset: EMSO-AZORES_SBE53_East_2019_2020\n",
      "Processing dataset: EMSO-AZORES_SBE53_West_2019_2020\n",
      "Processing dataset: EMSO-AZORES_Borel_Meteo-Unit-1_2010-2011\n",
      "Processing dataset: EMSO-AZORES_Borel_Meteo-Unit-1_2011-2012\n",
      "Processing dataset: EMSO-AZORES_Borel_Meteo-Unit-1_2012-2013\n",
      "Processing dataset: EMSO-AZORES_Borel_Meteo-Unit-1_2013-2014\n",
      "Processing dataset: EMSO-AZORES_Borel_Meteo-Unit-1_2014-2015\n",
      "Processing dataset: EMSO-AZORES_Borel_Meteo-Unit-1_2015-2016\n",
      "Processing dataset: EMSO-AZORES_Borel_Meteo-Unit-1_2016-2017\n",
      "Processing dataset: EMSO-AZORES_Borel_Meteo-Unit-2_2016-2017\n",
      "Processing dataset: EMSO-AZORES_EGIM_TEMP-CNDC-PRES_2017-2018\n",
      "Processing dataset: EMSO-AZORES_EGIM_Precise-Pressure_2017-2018\n",
      "Processing dataset: EMSO-AZORES_EGIM_Optode-O2_2017-2018\n",
      "Processing dataset: EMSO-AZORES_EGIM_Turbidity_2017-2018\n"
     ]
    },
    {
     "data": {
      "text/html": [
       "<div>\n",
       "<style scoped>\n",
       "    .dataframe tbody tr th:only-of-type {\n",
       "        vertical-align: middle;\n",
       "    }\n",
       "\n",
       "    .dataframe tbody tr th {\n",
       "        vertical-align: top;\n",
       "    }\n",
       "\n",
       "    .dataframe thead th {\n",
       "        text-align: right;\n",
       "    }\n",
       "</style>\n",
       "<table border=\"1\" class=\"dataframe\">\n",
       "  <thead>\n",
       "    <tr style=\"text-align: right;\">\n",
       "      <th></th>\n",
       "      <th>DatasetID</th>\n",
       "      <th>Property</th>\n",
       "      <th>Count</th>\n",
       "      <th>Types</th>\n",
       "      <th>Example</th>\n",
       "      <th>UniqueValues</th>\n",
       "    </tr>\n",
       "  </thead>\n",
       "  <tbody>\n",
       "    <tr>\n",
       "      <th>0</th>\n",
       "      <td>allDatasets</td>\n",
       "      <td>datasetID</td>\n",
       "      <td>171</td>\n",
       "      <td>object</td>\n",
       "      <td>allDatasets</td>\n",
       "      <td>{}</td>\n",
       "    </tr>\n",
       "    <tr>\n",
       "      <th>1</th>\n",
       "      <td>allDatasets</td>\n",
       "      <td>accessible</td>\n",
       "      <td>171</td>\n",
       "      <td>object</td>\n",
       "      <td>public</td>\n",
       "      <td>{public}</td>\n",
       "    </tr>\n",
       "    <tr>\n",
       "      <th>2</th>\n",
       "      <td>allDatasets</td>\n",
       "      <td>institution</td>\n",
       "      <td>171</td>\n",
       "      <td>object</td>\n",
       "      <td>Axiom Docker Install</td>\n",
       "      <td>{}</td>\n",
       "    </tr>\n",
       "    <tr>\n",
       "      <th>3</th>\n",
       "      <td>allDatasets</td>\n",
       "      <td>dataStructure</td>\n",
       "      <td>171</td>\n",
       "      <td>object</td>\n",
       "      <td>table</td>\n",
       "      <td>{table}</td>\n",
       "    </tr>\n",
       "    <tr>\n",
       "      <th>4</th>\n",
       "      <td>allDatasets</td>\n",
       "      <td>cdm_data_type</td>\n",
       "      <td>171</td>\n",
       "      <td>object</td>\n",
       "      <td>Other</td>\n",
       "      <td>{Other, Point, TimeSeries}</td>\n",
       "    </tr>\n",
       "    <tr>\n",
       "      <th>...</th>\n",
       "      <td>...</td>\n",
       "      <td>...</td>\n",
       "      <td>...</td>\n",
       "      <td>...</td>\n",
       "      <td>...</td>\n",
       "      <td>...</td>\n",
       "    </tr>\n",
       "    <tr>\n",
       "      <th>3</th>\n",
       "      <td>EMSO-AZORES_EGIM_Turbidity_2017-2018</td>\n",
       "      <td>longitude (degrees_east)</td>\n",
       "      <td>25469</td>\n",
       "      <td>float64</td>\n",
       "      <td>-32.27562</td>\n",
       "      <td>{-32.27562}</td>\n",
       "    </tr>\n",
       "    <tr>\n",
       "      <th>4</th>\n",
       "      <td>EMSO-AZORES_EGIM_Turbidity_2017-2018</td>\n",
       "      <td>depth (m)</td>\n",
       "      <td>25469</td>\n",
       "      <td>float64</td>\n",
       "      <td>1700.0</td>\n",
       "      <td>{1700.0}</td>\n",
       "    </tr>\n",
       "    <tr>\n",
       "      <th>5</th>\n",
       "      <td>EMSO-AZORES_EGIM_Turbidity_2017-2018</td>\n",
       "      <td>DEPH_QC</td>\n",
       "      <td>25469</td>\n",
       "      <td>int64</td>\n",
       "      <td>7</td>\n",
       "      <td>{7}</td>\n",
       "    </tr>\n",
       "    <tr>\n",
       "      <th>6</th>\n",
       "      <td>EMSO-AZORES_EGIM_Turbidity_2017-2018</td>\n",
       "      <td>TUR4 (NTU)</td>\n",
       "      <td>25469</td>\n",
       "      <td>float64</td>\n",
       "      <td>294.0</td>\n",
       "      <td>{}</td>\n",
       "    </tr>\n",
       "    <tr>\n",
       "      <th>7</th>\n",
       "      <td>EMSO-AZORES_EGIM_Turbidity_2017-2018</td>\n",
       "      <td>TUR4_QC</td>\n",
       "      <td>25469</td>\n",
       "      <td>int64</td>\n",
       "      <td>1</td>\n",
       "      <td>{1}</td>\n",
       "    </tr>\n",
       "  </tbody>\n",
       "</table>\n",
       "<p>1438 rows × 6 columns</p>\n",
       "</div>"
      ],
      "text/plain": [
       "                               DatasetID                  Property  Count  \\\n",
       "0                            allDatasets                 datasetID    171   \n",
       "1                            allDatasets                accessible    171   \n",
       "2                            allDatasets               institution    171   \n",
       "3                            allDatasets             dataStructure    171   \n",
       "4                            allDatasets             cdm_data_type    171   \n",
       "..                                   ...                       ...    ...   \n",
       "3   EMSO-AZORES_EGIM_Turbidity_2017-2018  longitude (degrees_east)  25469   \n",
       "4   EMSO-AZORES_EGIM_Turbidity_2017-2018                 depth (m)  25469   \n",
       "5   EMSO-AZORES_EGIM_Turbidity_2017-2018                   DEPH_QC  25469   \n",
       "6   EMSO-AZORES_EGIM_Turbidity_2017-2018                TUR4 (NTU)  25469   \n",
       "7   EMSO-AZORES_EGIM_Turbidity_2017-2018                   TUR4_QC  25469   \n",
       "\n",
       "      Types               Example                UniqueValues  \n",
       "0    object           allDatasets                          {}  \n",
       "1    object                public                    {public}  \n",
       "2    object  Axiom Docker Install                          {}  \n",
       "3    object                 table                     {table}  \n",
       "4    object                 Other  {Other, Point, TimeSeries}  \n",
       "..      ...                   ...                         ...  \n",
       "3   float64             -32.27562                 {-32.27562}  \n",
       "4   float64                1700.0                    {1700.0}  \n",
       "5     int64                     7                         {7}  \n",
       "6   float64                 294.0                          {}  \n",
       "7     int64                     1                         {1}  \n",
       "\n",
       "[1438 rows x 6 columns]"
      ]
     },
     "execution_count": 4,
     "metadata": {},
     "output_type": "execute_result"
    }
   ],
   "source": [
    "#list datasets\n",
    "print(f\"there are {len(EMSO_alldatasets_df['datasetID'].drop_duplicates())} datasets available via EMSO ERDDAP\")\n",
    "\n",
    "# Connect to server \n",
    "erddap = ERDDAP(server=\"https://erddap.emso.eu/erddap\", protocol=\"tabledap\")\n",
    "\n",
    "summary_full_df = pd.DataFrame()\n",
    "#first half (otherwise code takes too long to run)\n",
    "for datasetID in EMSO_alldatasets_df['datasetID'][:len(EMSO_alldatasets_df) // 2]:\n",
    "    print(f\"Processing dataset: {datasetID}\")\n",
    "    \n",
    "    try:\n",
    "        # Set the dataset ID\n",
    "        erddap.dataset_id = datasetID\n",
    "        \n",
    "        # Fetch data as a 2D dataframe with timeout handling\n",
    "        dataset_df = erddap.to_pandas()\n",
    "        \n",
    "        # Process data        \n",
    "        summ_df = data_frame(dataset_df, datasetID)\n",
    "        summary_full_df = pd.concat([summary_full_df, summ_df])\n",
    "        \n",
    "    except Exception as e:\n",
    "        print(f\"There was an error for {datasetID}: {e}\")\n",
    "\n",
    "\n",
    "summary_full_df\n",
    "#Property ~ variables (attributes & dimensions not clear)"
   ]
  },
  {
   "cell_type": "code",
   "execution_count": 5,
   "id": "0f59ba96",
   "metadata": {},
   "outputs": [],
   "source": [
    "# write first half to csv file\n",
    "summary_full_df.to_csv(\"properties/EMSO_ERDDAP_dataset_data_metadata.csv\", index=False)"
   ]
  },
  {
   "cell_type": "code",
   "execution_count": 6,
   "id": "7d3c1846",
   "metadata": {},
   "outputs": [
    {
     "name": "stdout",
     "output_type": "stream",
     "text": [
      "Processing dataset: EMSO-AZORES_CHEMINI_Total-Iron_2011-2012\n",
      "Processing dataset: EMSO-AZORES_CHEMINI_Total-Iron_2013-2014\n",
      "Processing dataset: EMSO-AZORES_CHEMINI_Total-Iron_2014-2015\n",
      "Processing dataset: EMSO-AZORES_CHEMINI_Total-Iron_2016-2017\n",
      "Processing dataset: EMSO-AZORES_CHEMINI_Total-Iron_2017-2018\n",
      "Processing dataset: EMSO-AZORES_CHEMINI_Total-Iron_2018-2019\n",
      "Processing dataset: EMSO-AZORES_CHEMINI_Total-Iron_2019-2020\n",
      "Processing dataset: EMSO-AZORES_Seamon-East_Optode-O2_2013-2014\n",
      "Processing dataset: EMSO-AZORES_Seamon-East_Optode-O2_2015-2016\n",
      "Processing dataset: EMSO-AZORES_Seamon-East_Optode-O2_2016-2017\n",
      "Processing dataset: EMSO-AZORES_Seamon-East_Optode-O2_2012-2013\n",
      "Processing dataset: EMSO-AZORES_Wetlabs_Turbidity_2011-2012\n",
      "Processing dataset: EMSO-AZORES_Wetlabs_Turbidity_2012-2013\n",
      "Processing dataset: EMSO-AZORES_Wetlabs_Turbidity_2013-2014\n",
      "Processing dataset: EMSO-AZORES_Wetlabs_Turbidity_2015-2016\n",
      "Processing dataset: EMSO-AZORES_Wetlabs_Turbidity_2016-2017\n",
      "Processing dataset: EMSO-AZORES_Wetlabs_Turbidity_2017-2018\n",
      "Processing dataset: EMSO-LIGURE-NICE_SPF-PZ3L-01_2015-2019\n",
      "Processing dataset: EMSO-LIGURE-NICE_ST4-PZ2L-01B_2014-2019\n",
      "Processing dataset: EMSO-LIGURE-NICE_ST4-PZ2L-03_2014-2018\n",
      "Processing dataset: EMSO-LIGURE-NICE_MAR2-PZML-01_2021-2022\n",
      "Processing dataset: Emso_Western_Ligurian_Bathybot_Optodes_NetCDF_2023\n",
      "Processing dataset: Emso_Western_Ligurian_Bathybot_ADCP_NetCDF_2023\n",
      "Processing dataset: Emso_Western_Ligurian_Bathybot_Aquadopp_NetCDF_2023\n",
      "Processing dataset: Emso_Western_Ligurian_Bathybot_Microcat_NetCDF_2023\n",
      "Processing dataset: EMSO_OBSEA_Besos_Buoy_C3_30min\n",
      "Processing dataset: EMSO_OBSEA_Besos_Buoy_C3_full\n",
      "Processing dataset: E1M3A_20070528_20080226\n",
      "Processing dataset: E1M3A_20080227_20090725\n",
      "Processing dataset: E1M3A_20090726_20100707\n",
      "Processing dataset: E1M3A_20100708_20110827\n",
      "Processing dataset: E1M3A_20110828_20130521\n",
      "Processing dataset: E1M3A_20130522_20141009\n"
     ]
    },
    {
     "ename": "",
     "evalue": "",
     "output_type": "error",
     "traceback": [
      "\u001b[1;31mCannot execute code, session has been disposed. Please try restarting the Kernel."
     ]
    },
    {
     "ename": "",
     "evalue": "",
     "output_type": "error",
     "traceback": [
      "\u001b[1;31mThe Kernel crashed while executing code in the the current cell or a previous cell. Please review the code in the cell(s) to identify a possible cause of the failure. Click <a href='https://aka.ms/vscodeJupyterKernelCrash'>here</a> for more info. View Jupyter <a href='command:jupyter.viewOutput'>log</a> for further details."
     ]
    }
   ],
   "source": [
    "#second half\n",
    "for datasetID in EMSO_alldatasets_df['datasetID'][(len(EMSO_alldatasets_df) // 2):]:\n",
    "    print(f\"Processing dataset: {datasetID}\")\n",
    "    \n",
    "    try:\n",
    "        # Set the dataset ID\n",
    "        erddap.dataset_id = datasetID\n",
    "        \n",
    "        # Fetch data as a 2D dataframe with timeout handling\n",
    "        dataset_df = erddap.to_pandas()\n",
    "        \n",
    "        # Process data        \n",
    "        summ_df = data_frame(dataset_df, datasetID)\n",
    "        summary_full_df = pd.concat([summary_full_df, summ_df], ignore_index=True)\n",
    "        #overwrite each time, try to get info from as much datasets as possible before error\n",
    "        summary_full_df.to_csv(\"properties/EMSO_ERDDAP_dataset_data_metadata2.csv\", index=False)\n",
    "    except Exception as e:\n",
    "        print(f\"There was an error for {datasetID}: {e}\")\n",
    "\n",
    "summary_full_df\n",
    "summary_full_df.to_csv(\"properties/EMSO_ERDDAP_dataset_data_metadata2.csv\", index=False)\n",
    "#note: doesn't list netCDF attributes"
   ]
  },
  {
   "cell_type": "markdown",
   "id": "af808cea",
   "metadata": {},
   "source": [
    "Exploration of **data** from each dataset offered through the ERDDAP server, by accessing as ncCF  \n",
    "(listing the global attributes, dimensions and variables)  \n",
    "\n",
    "--> returns the same information as does metadata retrieved through the get_info_url  \n",
    "(_df = pd.read_csv(emsoERDDAP.get_info_url(response=\"csv\")))"
   ]
  },
  {
   "cell_type": "markdown",
   "id": "79bb6d78",
   "metadata": {},
   "source": [
    "Comparing the properties between ERDDAP servers (ARGO & EMSO ERDDAP servers)\n",
    "\n",
    "~ similar properties but 100% same, which can lead to confusion & result in error when combining data"
   ]
  },
  {
   "cell_type": "code",
   "execution_count": null,
   "id": "3ba9d132",
   "metadata": {},
   "outputs": [],
   "source": []
  }
 ],
 "metadata": {
  "kernelspec": {
   "display_name": "Python 3 (ipykernel)",
   "language": "python",
   "name": "python3"
  },
  "language_info": {
   "codemirror_mode": {
    "name": "ipython",
    "version": 3
   },
   "file_extension": ".py",
   "mimetype": "text/x-python",
   "name": "python",
   "nbconvert_exporter": "python",
   "pygments_lexer": "ipython3",
   "version": "3.10.12"
  }
 },
 "nbformat": 4,
 "nbformat_minor": 5
}
