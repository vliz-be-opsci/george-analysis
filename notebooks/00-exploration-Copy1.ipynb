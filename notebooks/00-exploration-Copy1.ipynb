{
 "cells": [
  {
   "cell_type": "code",
   "execution_count": 7,
   "id": "4e5f5fe6-b7f7-4633-ad37-ebea401d65fa",
   "metadata": {},
   "outputs": [],
   "source": [
    "from connec_functions import execute_to_df, generate_sparql\n",
    "import pandas as pd\n",
    "import os\n",
    "import requests"
   ]
  },
  {
   "cell_type": "markdown",
   "id": "b0e56b08-4542-4cf3-8054-1ce7a805b76b",
   "metadata": {},
   "source": [
    "### ANALYSIS"
   ]
  },
  {
   "cell_type": "markdown",
   "id": "d24c61dc-5668-4731-aa91-d02cfdab61ac",
   "metadata": {},
   "source": [
    "notes:\n",
    "- json output, no RDF\n",
    "- following O&M 2.0 standard,IOT-T definition\n",
    "- no reference/alignment with other standards,vocabs,... \n",
    "- goes to observation level ~ data point level"
   ]
  },
  {
   "cell_type": "code",
   "execution_count": 95,
   "id": "c04951c5-0cca-4e4a-8257-2610e77c63c9",
   "metadata": {},
   "outputs": [
    {
     "name": "stdout",
     "output_type": "stream",
     "text": [
      "number of entities described: 9\n",
      "Things: https://sextant.ifremer.fr/examind/WS/sts/coriolis/v1.1/Things\n",
      "Locations: https://sextant.ifremer.fr/examind/WS/sts/coriolis/v1.1/Locations\n",
      "Datastreams: https://sextant.ifremer.fr/examind/WS/sts/coriolis/v1.1/Datastreams\n",
      "MultiDatastreams: https://sextant.ifremer.fr/examind/WS/sts/coriolis/v1.1/MultiDatastreams\n",
      "Sensors: https://sextant.ifremer.fr/examind/WS/sts/coriolis/v1.1/Sensors\n",
      "Observations: https://sextant.ifremer.fr/examind/WS/sts/coriolis/v1.1/Observations\n",
      "ObservedProperties: https://sextant.ifremer.fr/examind/WS/sts/coriolis/v1.1/ObservedProperties\n",
      "FeaturesOfInterest: https://sextant.ifremer.fr/examind/WS/sts/coriolis/v1.1/FeaturesOfInterest\n",
      "HistoricalLocations: https://sextant.ifremer.fr/examind/WS/sts/coriolis/v1.1/HistoricalLocations\n"
     ]
    }
   ],
   "source": [
    "argo_url = \"https://sextant.ifremer.fr/examind/WS/sts/coriolis/v1.1\"\n",
    "\n",
    "endpoint_response = requests.get(argo_url).json()\n",
    "\n",
    "print(f\"number of entities described: {len( endpoint_response['value'])}\")\n",
    "entity_name = []\n",
    "entity_url = []\n",
    "for item in endpoint_response['value']:\n",
    "    item_list = list(item.values())\n",
    "    entity_name.append(item_list[0])\n",
    "    entity_url.append(item_list[-1])\n",
    "    \n",
    "    print(f'{item_list[0]}: {item_list[-1]}')\n"
   ]
  },
  {
   "cell_type": "code",
   "execution_count": 97,
   "id": "6be50d0f-7db8-4654-925f-7ed9356ac219",
   "metadata": {},
   "outputs": [
    {
     "name": "stdout",
     "output_type": "stream",
     "text": [
      "Entity: Things\n",
      "['name', 'description', 'properties', '@iot.id', '@iot.selfLink', 'HistoricalLocations@iot.navigationLink', 'Datastreams@iot.navigationLink', 'Locations@iot.navigationLink', 'MultiDatastreams@iot.navigationLink']\n",
      "['UNKNOWN', '', {'type': 'Profile'}, '10518', 'https://sextant.ifremer.fr/examind/WS/sts/coriolis/v1.1/Things(10518)', 'https://sextant.ifremer.fr/examind/WS/sts/coriolis/v1.1/Things(10518)/HistoricalLocations', 'https://sextant.ifremer.fr/examind/WS/sts/coriolis/v1.1/Things(10518)/Datastreams', 'https://sextant.ifremer.fr/examind/WS/sts/coriolis/v1.1/Things(10518)/Locations', 'https://sextant.ifremer.fr/examind/WS/sts/coriolis/v1.1/Things(10518)/MultiDatastreams']\n",
      "Entity: Locations\n",
      "['name', 'description', 'encodingType', 'location', '@iot.id', '@iot.selfLink', 'Things@iot.navigationLink', 'HistoricalLocations@iot.navigationLink']\n",
      "['3902144', '', 'application/vnd.geo+json', {'type': 'Feature', 'geometry': {'type': 'Point', 'coordinates': [-92.28382, -19.70416]}, 'properties': {}}, '3902144', 'https://sextant.ifremer.fr/examind/WS/sts/coriolis/v1.1/Locations(3902144)', 'https://sextant.ifremer.fr/examind/WS/sts/coriolis/v1.1/Locations(3902144)/Things', 'https://sextant.ifremer.fr/examind/WS/sts/coriolis/v1.1/Locations(3902144)/HistoricalLocations']\n",
      "Entity: Datastreams\n",
      "['description', 'unitOfMeasurement', 'observationType', 'observedArea', 'phenomenonTime', 'resultTime', '@iot.id', '@iot.selfLink', 'Thing@iot.navigationLink', 'Sensor@iot.navigationLink', 'ObservedProperty@iot.navigationLink', 'Observations@iot.navigationLink']\n",
      "['', {}, 'http://www.opengis.net/def/observationType/OGC-OM/2.0/OM_Measurement', {'type': 'Polygon', 'coordinates': [[[148.363, 39.998], [148.363, 39.998], [148.363, 39.998], [148.363, 39.998], [148.363, 39.998]]]}, '2021-07-19T19:17:00Z', '2021-07-19T19:17:00Z', 'urn:observation:template:10518-9', 'https://sextant.ifremer.fr/examind/WS/sts/coriolis/v1.1/Datastreams(urn:observation:template:10518-9)', 'https://sextant.ifremer.fr/examind/WS/sts/coriolis/v1.1/Datastreams(urn:observation:template:10518-9)/Things', 'https://sextant.ifremer.fr/examind/WS/sts/coriolis/v1.1/Datastreams(urn:observation:template:10518-9)/Sensors', 'https://sextant.ifremer.fr/examind/WS/sts/coriolis/v1.1/Datastreams(urn:observation:template:10518-9)/ObservedProperties', 'https://sextant.ifremer.fr/examind/WS/sts/coriolis/v1.1/Datastreams(urn:observation:template:10518-9)/Observations']\n",
      "Entity: MultiDatastreams\n",
      "['unitOfMeasurement', 'observationType', 'observedArea', 'phenomenonTime', 'resultTime', '@iot.id', '@iot.selfLink', 'Thing@iot.navigationLink', 'Sensor@iot.navigationLink', 'ObservedProperty@iot.navigationLink', 'Observations@iot.navigationLink', 'multiObservationDataTypes']\n",
      "[[{}, {}], 'http://www.opengis.net/def/observationType/OGC-OM/2.0/OM_ComplexObservation', {'type': 'Polygon', 'coordinates': [[[148.363, 39.998], [148.363, 39.998], [148.363, 39.998], [148.363, 39.998], [148.363, 39.998]]]}, '2021-07-19T19:17:00Z', '2021-07-19T19:17:00Z', 'urn:observation:template:10518', 'https://sextant.ifremer.fr/examind/WS/sts/coriolis/v1.1/MultiDatastreams(urn:observation:template:10518)', 'https://sextant.ifremer.fr/examind/WS/sts/coriolis/v1.1/MultiDatastreams(urn:observation:template:10518)/Things', 'https://sextant.ifremer.fr/examind/WS/sts/coriolis/v1.1/MultiDatastreams(urn:observation:template:10518)/Sensors', 'https://sextant.ifremer.fr/examind/WS/sts/coriolis/v1.1/MultiDatastreams(urn:observation:template:10518)/ObservedProperties', 'https://sextant.ifremer.fr/examind/WS/sts/coriolis/v1.1/MultiDatastreams(urn:observation:template:10518)/Observations', ['http://www.opengis.net/def/observationType/OGC-OM/2.0/OM_Measurement', 'http://www.opengis.net/def/observationType/OGC-OM/2.0/OM_Measurement']]\n",
      "Entity: Sensors\n",
      "['description', 'name', 'encodingType', 'metadata', '@iot.id', '@iot.selfLink', 'Datastreams@iot.navigationLink', 'MultiDatastreams@iot.navigationLink']\n",
      "['', 'UNKNOWN', 'http://www.opengis.net/doc/IS/SensorML/2.0', 'https://sextant.ifremer.fr/examind', '10518', 'https://sextant.ifremer.fr/examind/WS/sts/coriolis/v1.1/Sensors(10518)', 'https://sextant.ifremer.fr/examind/WS/sts/coriolis/v1.1/Sensors(10518)/Datastreams', 'https://sextant.ifremer.fr/examind/WS/sts/coriolis/v1.1/Sensors(10518)/MultiDatastreams']\n",
      "Entity: Observations\n",
      "['phenomenonTime', 'result', 'resultTime', '@iot.id', '@iot.selfLink', 'Datastream@iot.navigationLink', 'FeatureOfInterest@iot.navigationLink']\n",
      "['1836-05-15T00:00:00Z', 24.22, '1836-05-15T00:00:00Z', 'urn:observation:61795678-35-1', 'https://sextant.ifremer.fr/examind/WS/sts/coriolis/v1.1/Observations(urn:observation:61795678-35-1)', 'https://sextant.ifremer.fr/examind/WS/sts/coriolis/v1.1/Observations(urn:observation:61795678-35-1)/Datastreams', 'https://sextant.ifremer.fr/examind/WS/sts/coriolis/v1.1/Observations(urn:observation:61795678-35-1)/FeaturesOfInterest']\n",
      "Entity: ObservedProperties\n",
      "['name', 'definition', 'description', 'properties', '@iot.id', '@iot.selfLink', 'Datastreams@iot.navigationLink', 'MultiDatastreams@iot.navigationLink']\n",
      "['Depth', '9', '', {}, '9', 'https://sextant.ifremer.fr/examind/WS/sts/coriolis/v1.1/ObservedProperties(9)', 'https://sextant.ifremer.fr/examind/WS/sts/coriolis/v1.1/ObservedProperties(9)/Datastreams', 'https://sextant.ifremer.fr/examind/WS/sts/coriolis/v1.1/ObservedProperties(9)/MultiDatastreams']\n",
      "Entity: FeaturesOfInterest\n",
      "['name', 'encodingType', 'feature', 'properties', '@iot.id', '@iot.selfLink', 'Observations@iot.navigationLink']\n",
      "['61795678', 'application/vnd.geo+json', {'type': 'Feature', 'geometry': {'type': 'Point', 'coordinates': [41.0, -27.5]}, 'properties': {}}, {}, '61795678', 'https://sextant.ifremer.fr/examind/WS/sts/coriolis/v1.1/FeaturesOfInterest(61795678)', 'https://sextant.ifremer.fr/examind/WS/sts/coriolis/v1.1/FeaturesOfInterest(61795678)/Observations']\n",
      "Entity: HistoricalLocations\n",
      "['@iot.id', '@iot.selfLink', 'time', 'Locations@iot.navigationLink', 'Thing@iot.navigationLink']\n",
      "['GXBH--4217011200000', 'https://sextant.ifremer.fr/examind/WS/sts/coriolis/v1.1/HistoricalLocations(GXBH--4217011200000)', '1836-05-15T00:00:00Z', 'https://sextant.ifremer.fr/examind/WS/sts/coriolis/v1.1/HistoricalLocations(GXBH--4217011200000)/Locations', 'https://sextant.ifremer.fr/examind/WS/sts/coriolis/v1.1/HistoricalLocations(GXBH--4217011200000)/Things']\n"
     ]
    }
   ],
   "source": [
    "for i in range(len(response_list)):\n",
    "    print(f'Entity: {entity_name[i]}')\n",
    "\n",
    "    try:\n",
    "        url_response = requests.get(entity_url[i]).json()\n",
    "        \n",
    "        header_list = list(url_response['value'][0].keys())\n",
    "        example_values_list = list(url_response['value'][0].values())\n",
    "        print(header_list)\n",
    "        print(example_values_list)\n",
    "\n",
    "    except exception as e:\n",
    "        print(f'Error: {e}')"
   ]
  },
  {
   "cell_type": "markdown",
   "id": "0b9ee92b-3452-4159-9719-6f9a6507b57e",
   "metadata": {},
   "source": [
    "#### General notes:\n",
    "- @iot.selfLink returns 404 - not available - due to missing ')' at end of url - might be browser issue\n",
    "- REST API\n",
    "\n",
    "#### Entity: Things\n",
    "- links to other entities available\n",
    "- properties not described via URL's\n",
    "\n",
    "\n",
    "#### Entity: Locations\n",
    "- encodingType possibly described in a standard way, but not usins links (compare to: encodingType of Sensors)\n",
    "\n",
    "#### Entity: Datastreams\n",
    "- https://docs.ogc.org/is/18-088/18-088.html#datastream\n",
    "- \n",
    "\n",
    "\n",
    "#### Entity: MultiDatastreams\n",
    "\n",
    "\n",
    "#### Entity: Sensors\n",
    "- encodingtype described as url\n",
    "- metadata locked behind login - not open available\n",
    "- \n",
    "\n",
    "#### Entity: Observations\n",
    "\n",
    "\n",
    "#### Entity: ObservedProperties\n",
    "- definition is the id\n",
    "- no link to other/external definitions of the defined observed properties\n",
    "  \n",
    "#### Entity: FeatureOfInterest\n",
    "- name is a code\n",
    "- results in semantic ambiguity for 'result' property of Observations entity ~ result of what?\n",
    "e.g. https://sextant.ifremer.fr/examind/WS/sts/coriolis/v1.1/FeaturesOfInterest(61795678)  \n",
    "https://docs.ogc.org/is/18-088/18-088.html#featureofinterest\n",
    "\n",
    "--> refers to the location where an observation was made? ~ confusing with the FeatureOfInterest in RDF which represents the thing whose property is estimated/calculated in an observation\n",
    "\n",
    "#### Entity: HistoricalLocations\n"
   ]
  },
  {
   "cell_type": "markdown",
   "id": "6aef9e34-1360-4a4d-bae5-7dc601acfc29",
   "metadata": {},
   "source": [
    " "
   ]
  }
 ],
 "metadata": {
  "kernelspec": {
   "display_name": "Python 3 (ipykernel)",
   "language": "python",
   "name": "python3"
  },
  "language_info": {
   "codemirror_mode": {
    "name": "ipython",
    "version": 3
   },
   "file_extension": ".py",
   "mimetype": "text/x-python",
   "name": "python",
   "nbconvert_exporter": "python",
   "pygments_lexer": "ipython3",
   "version": "3.11.6"
  }
 },
 "nbformat": 4,
 "nbformat_minor": 5
}
