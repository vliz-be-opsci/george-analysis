{
 "cells": [
  {
   "cell_type": "code",
   "execution_count": 1,
   "metadata": {},
   "outputs": [
    {
     "name": "stderr",
     "output_type": "stream",
     "text": [
      "/tmp/ipykernel_2892/3066205566.py:1: DeprecationWarning: \n",
      "Pyarrow will become a required dependency of pandas in the next major release of pandas (pandas 3.0),\n",
      "(to allow more performant data types, such as the Arrow string type, and better interoperability with other libraries)\n",
      "but was not found to be installed on your system.\n",
      "If this would cause problems for you,\n",
      "please provide us feedback at https://github.com/pandas-dev/pandas/issues/54466\n",
      "        \n",
      "  import pandas as pd\n"
     ]
    }
   ],
   "source": [
    "import pandas as pd\n",
    "from connec_functions import GDB"
   ]
  },
  {
   "cell_type": "markdown",
   "metadata": {},
   "source": [
    "# SPARQL endpoint"
   ]
  },
  {
   "cell_type": "markdown",
   "metadata": {},
   "source": [
    "#### notes/fidings:\n",
    "- simple / general / large SPARQL queries result in a 502 error\n",
    "- querying the SPARQL endpoint requires knowledge on the data model\n",
    "- there is linking to externally defined standard terms = good\n",
    "    - leveraging use of linked data \n",
    "- usage of internally defined predicates = good, but less good (see point 2)\n",
    "    - not known by external machines (e.g. dct:title vs ifremer:thisisourname)\n",
    "    - solution would require community effort to develop standard data model for described entity kinds\n",
    "- identifier for publisher information can be improved, for example 'http://www.argodatamgt.org/Data-Mgt-Team/ADMT-team-and-Executive-Committee'\n",
    "  - could alternatively use ROR-ID for institutes, ORC-ID for people\n",
    "  - currently links to just html page (no ttl or json-ld with content negotiation), could be described as linked data\n",
    "- https://co.ifremer.fr/co/argo-linked-data/doc/argo-floats.ttl#Datacenter not in the described ontology\n",
    "\n",
    "- data granularity: file level \n",
    "  - data files are 'accessible' with dcat:downloadUrl within a dcat:distribution\n",
    "  (data within file is not machine readable)"
   ]
  },
  {
   "cell_type": "code",
   "execution_count": 2,
   "metadata": {},
   "outputs": [],
   "source": [
    "# Define the SPARQL endpoint URL\n",
    "sparql_endpoint_url = \"https://sparql.ifremer.fr/argo/query\"\n",
    "gdb = GDB(sparql_endpoint_url, \"endpoint_queries\")"
   ]
  },
  {
   "cell_type": "code",
   "execution_count": 3,
   "metadata": {},
   "outputs": [
    {
     "data": {
      "text/html": [
       "<div>\n",
       "<style scoped>\n",
       "    .dataframe tbody tr th:only-of-type {\n",
       "        vertical-align: middle;\n",
       "    }\n",
       "\n",
       "    .dataframe tbody tr th {\n",
       "        vertical-align: top;\n",
       "    }\n",
       "\n",
       "    .dataframe thead th {\n",
       "        text-align: right;\n",
       "    }\n",
       "</style>\n",
       "<table border=\"1\" class=\"dataframe\">\n",
       "  <thead>\n",
       "    <tr style=\"text-align: right;\">\n",
       "      <th></th>\n",
       "      <th>s</th>\n",
       "      <th>p</th>\n",
       "      <th>o</th>\n",
       "    </tr>\n",
       "  </thead>\n",
       "  <tbody>\n",
       "    <tr>\n",
       "      <th>0</th>\n",
       "      <td>https://argo.ucsd.edu/data/data-from-gdacs#aoml</td>\n",
       "      <td>http://www.w3.org/1999/02/22-rdf-syntax-ns#type</td>\n",
       "      <td>http://www.w3.org/ns/dcat#Catalog</td>\n",
       "    </tr>\n",
       "    <tr>\n",
       "      <th>1</th>\n",
       "      <td>https://argo.ucsd.edu/data/data-from-gdacs#aoml</td>\n",
       "      <td>http://www.w3.org/1999/02/22-rdf-syntax-ns#type</td>\n",
       "      <td>https://co.ifremer.fr/co/argo-linked-data/doc/...</td>\n",
       "    </tr>\n",
       "    <tr>\n",
       "      <th>2</th>\n",
       "      <td>https://argo.ucsd.edu/data/data-from-gdacs#aoml</td>\n",
       "      <td>http://www.w3.org/2000/01/rdf-schema#label</td>\n",
       "      <td>aoml</td>\n",
       "    </tr>\n",
       "    <tr>\n",
       "      <th>3</th>\n",
       "      <td>https://argo.ucsd.edu/data/data-from-gdacs#aoml</td>\n",
       "      <td>http://purl.org/dc/terms/description</td>\n",
       "      <td>\\n                    Catalog of the Argo data...</td>\n",
       "    </tr>\n",
       "    <tr>\n",
       "      <th>4</th>\n",
       "      <td>https://argo.ucsd.edu/data/data-from-gdacs#aoml</td>\n",
       "      <td>http://purl.org/dc/terms/publisher</td>\n",
       "      <td>http://www.argodatamgt.org/Data-Mgt-Team/ADMT-...</td>\n",
       "    </tr>\n",
       "    <tr>\n",
       "      <th>5</th>\n",
       "      <td>https://argo.ucsd.edu/data/data-from-gdacs#aoml</td>\n",
       "      <td>http://purl.org/dc/terms/title</td>\n",
       "      <td>aoml Argo DAC metadata</td>\n",
       "    </tr>\n",
       "    <tr>\n",
       "      <th>6</th>\n",
       "      <td>https://argo.ucsd.edu/data/data-from-gdacs#aoml</td>\n",
       "      <td>http://www.w3.org/ns/dcat#dataset</td>\n",
       "      <td>https://fleetmonitoring.euro-argo.eu/float/190...</td>\n",
       "    </tr>\n",
       "    <tr>\n",
       "      <th>7</th>\n",
       "      <td>https://argo.ucsd.edu/data/data-from-gdacs#aoml</td>\n",
       "      <td>http://www.w3.org/ns/dcat#dataset</td>\n",
       "      <td>https://fleetmonitoring.euro-argo.eu/float/190...</td>\n",
       "    </tr>\n",
       "    <tr>\n",
       "      <th>8</th>\n",
       "      <td>https://argo.ucsd.edu/data/data-from-gdacs#aoml</td>\n",
       "      <td>http://www.w3.org/ns/dcat#dataset</td>\n",
       "      <td>https://fleetmonitoring.euro-argo.eu/float/190...</td>\n",
       "    </tr>\n",
       "    <tr>\n",
       "      <th>9</th>\n",
       "      <td>https://argo.ucsd.edu/data/data-from-gdacs#aoml</td>\n",
       "      <td>http://www.w3.org/ns/dcat#dataset</td>\n",
       "      <td>https://fleetmonitoring.euro-argo.eu/float/190...</td>\n",
       "    </tr>\n",
       "  </tbody>\n",
       "</table>\n",
       "</div>"
      ],
      "text/plain": [
       "                                                 s  \\\n",
       "0  https://argo.ucsd.edu/data/data-from-gdacs#aoml   \n",
       "1  https://argo.ucsd.edu/data/data-from-gdacs#aoml   \n",
       "2  https://argo.ucsd.edu/data/data-from-gdacs#aoml   \n",
       "3  https://argo.ucsd.edu/data/data-from-gdacs#aoml   \n",
       "4  https://argo.ucsd.edu/data/data-from-gdacs#aoml   \n",
       "5  https://argo.ucsd.edu/data/data-from-gdacs#aoml   \n",
       "6  https://argo.ucsd.edu/data/data-from-gdacs#aoml   \n",
       "7  https://argo.ucsd.edu/data/data-from-gdacs#aoml   \n",
       "8  https://argo.ucsd.edu/data/data-from-gdacs#aoml   \n",
       "9  https://argo.ucsd.edu/data/data-from-gdacs#aoml   \n",
       "\n",
       "                                                 p  \\\n",
       "0  http://www.w3.org/1999/02/22-rdf-syntax-ns#type   \n",
       "1  http://www.w3.org/1999/02/22-rdf-syntax-ns#type   \n",
       "2       http://www.w3.org/2000/01/rdf-schema#label   \n",
       "3             http://purl.org/dc/terms/description   \n",
       "4               http://purl.org/dc/terms/publisher   \n",
       "5                   http://purl.org/dc/terms/title   \n",
       "6                http://www.w3.org/ns/dcat#dataset   \n",
       "7                http://www.w3.org/ns/dcat#dataset   \n",
       "8                http://www.w3.org/ns/dcat#dataset   \n",
       "9                http://www.w3.org/ns/dcat#dataset   \n",
       "\n",
       "                                                   o  \n",
       "0                  http://www.w3.org/ns/dcat#Catalog  \n",
       "1  https://co.ifremer.fr/co/argo-linked-data/doc/...  \n",
       "2                                               aoml  \n",
       "3  \\n                    Catalog of the Argo data...  \n",
       "4  http://www.argodatamgt.org/Data-Mgt-Team/ADMT-...  \n",
       "5                             aoml Argo DAC metadata  \n",
       "6  https://fleetmonitoring.euro-argo.eu/float/190...  \n",
       "7  https://fleetmonitoring.euro-argo.eu/float/190...  \n",
       "8  https://fleetmonitoring.euro-argo.eu/float/190...  \n",
       "9  https://fleetmonitoring.euro-argo.eu/float/190...  "
      ]
     },
     "execution_count": 3,
     "metadata": {},
     "output_type": "execute_result"
    }
   ],
   "source": [
    "# general exploration\n",
    "gdb.execute_to_df(\"general.sparql\")"
   ]
  },
  {
   "cell_type": "markdown",
   "metadata": {},
   "source": [
    "### Catalog"
   ]
  },
  {
   "cell_type": "code",
   "execution_count": null,
   "metadata": {},
   "outputs": [],
   "source": [
    "#catalog predicates\n",
    "gdb.execute_to_df(\"catalog_predicates.sparql\")"
   ]
  },
  {
   "cell_type": "code",
   "execution_count": null,
   "metadata": {},
   "outputs": [],
   "source": [
    "# catalogs \n",
    "catalog_info = gdb.execute_to_df(\"catalog-info.sparql\")\n",
    "catalog_info"
   ]
  },
  {
   "cell_type": "code",
   "execution_count": null,
   "metadata": {},
   "outputs": [],
   "source": [
    "#datasets per catalog\n",
    "catalog_datasets = gdb.execute_to_df(\"catalog-datasets.sparql\")\n",
    "catalogs = catalog_datasets.groupby('catalog').nunique()\n",
    "catalogs"
   ]
  },
  {
   "cell_type": "markdown",
   "metadata": {},
   "source": [
    "### Publisher information"
   ]
  },
  {
   "cell_type": "code",
   "execution_count": null,
   "metadata": {},
   "outputs": [],
   "source": [
    "example_publisher = catalog_info['publisher'][0]\n",
    "gdb_publisher = GDB(example_publisher, \"endpoint_queries\")\n",
    "#gdb_publisher.execute_to_df(\"general.sparql\")\n",
    "#not available as RDF"
   ]
  },
  {
   "cell_type": "code",
   "execution_count": null,
   "metadata": {},
   "outputs": [],
   "source": [
    "#gdb.execute_to_df(\"publisher.sparql\")\n",
    "#not available as RDF"
   ]
  },
  {
   "cell_type": "markdown",
   "metadata": {},
   "source": [
    "### Datasets"
   ]
  },
  {
   "cell_type": "code",
   "execution_count": null,
   "metadata": {},
   "outputs": [],
   "source": [
    "#dataset predicates\n",
    "gdb.execute_to_df(\"dataset_predicates.sparql\") "
   ]
  },
  {
   "cell_type": "code",
   "execution_count": null,
   "metadata": {},
   "outputs": [],
   "source": [
    "# datasets \n",
    "gdb.execute_to_df(\"dataset-info.sparql\")"
   ]
  },
  {
   "cell_type": "markdown",
   "metadata": {},
   "source": [
    "### Standard terms"
   ]
  },
  {
   "cell_type": "markdown",
   "metadata": {},
   "source": [
    "#### outside-institute-standard terms"
   ]
  },
  {
   "cell_type": "code",
   "execution_count": null,
   "metadata": {},
   "outputs": [],
   "source": [
    "for catalog in catalogs.index:\n",
    "    name = catalog.split('#')[-1]\n",
    "    print(name)\n",
    "    result = gdb.execute_to_df(f\"{name}-external-term.sparql\")\n",
    "    print(result.groupby(['p', 'o']).nunique())"
   ]
  },
  {
   "cell_type": "markdown",
   "metadata": {},
   "source": [
    "#### inside-institute standard-terms"
   ]
  },
  {
   "cell_type": "code",
   "execution_count": null,
   "metadata": {},
   "outputs": [],
   "source": [
    "#examples: <https://co.ifremer.fr/co/argo-linked-data/doc/argo-floats.ttl#Datacenter> OR <https://argo.ucsd.edu/data/argo-software-tools#WJO>"
   ]
  },
  {
   "cell_type": "markdown",
   "metadata": {},
   "source": [
    "### Dataset distributions \n",
    "'HTTP Error 502: Proxy Error' when querying dcat:Distribution entity itself \n"
   ]
  },
  {
   "cell_type": "code",
   "execution_count": null,
   "metadata": {},
   "outputs": [],
   "source": [
    "# distributions of datasets in meds datalog (meds catalog contains 648 datasets)\n",
    "gdb.execute_to_df(\"distribution.sparql\")\n",
    "\n",
    "for catalog in catalogs.index:\n",
    "    name = catalog.split('#')[-1]\n",
    "\n",
    "    "
   ]
  },
  {
   "cell_type": "code",
   "execution_count": null,
   "metadata": {},
   "outputs": [],
   "source": [
    "meds_distributions.groupby('p').nunique()"
   ]
  },
  {
   "cell_type": "code",
   "execution_count": null,
   "metadata": {},
   "outputs": [],
   "source": [
    "# distributions of datasets in kordi datalog (Kordi catalog contains 115 datasets)\n",
    "sparql_query = \"\"\"\n",
    "SELECT DISTINCT \n",
    "    ?p ?o\n",
    "WHERE {\n",
    "        <https://argo.ucsd.edu/data/data-from-gdacs#kordi> <http://www.w3.org/ns/dcat#dataset> ?dataset . \n",
    "        ?dataset <http://www.w3.org/ns/dcat#distribution> ?distribution . \n",
    "        ?distribution ?p ?o . \n",
    "    }\n",
    "\"\"\"\n",
    "\n",
    "kordi_distributions = query(sparql_endpoint_url, sparql_query)\n",
    "kordi_distributions"
   ]
  },
  {
   "cell_type": "code",
   "execution_count": null,
   "metadata": {},
   "outputs": [],
   "source": [
    "distribution_predicates = kordi_distributions.groupby('p').nunique()\n",
    "distribution_predicates"
   ]
  }
 ],
 "metadata": {
  "kernelspec": {
   "display_name": "Python 3 (ipykernel)",
   "language": "python",
   "name": "python3"
  },
  "language_info": {
   "codemirror_mode": {
    "name": "ipython",
    "version": 3
   },
   "file_extension": ".py",
   "mimetype": "text/x-python",
   "name": "python",
   "nbconvert_exporter": "python",
   "pygments_lexer": "ipython3",
   "version": "3.11.6"
  }
 },
 "nbformat": 4,
 "nbformat_minor": 4
}
