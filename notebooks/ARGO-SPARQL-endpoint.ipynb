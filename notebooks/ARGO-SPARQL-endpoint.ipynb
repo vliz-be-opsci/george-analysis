{
 "cells": [
  {
   "cell_type": "code",
   "execution_count": 1,
   "metadata": {},
   "outputs": [
    {
     "name": "stderr",
     "output_type": "stream",
     "text": [
      "/tmp/ipykernel_109/2380593393.py:5: DeprecationWarning: \n",
      "Pyarrow will become a required dependency of pandas in the next major release of pandas (pandas 3.0),\n",
      "(to allow more performant data types, such as the Arrow string type, and better interoperability with other libraries)\n",
      "but was not found to be installed on your system.\n",
      "If this would cause problems for you,\n",
      "please provide us feedback at https://github.com/pandas-dev/pandas/issues/54466\n",
      "        \n",
      "  import pandas as pd\n"
     ]
    }
   ],
   "source": [
    "import pandas as pd\n",
    "from connec_functions import GDB"
   ]
  },
  {
   "cell_type": "markdown",
   "metadata": {},
   "source": [
    "# SPARQL endpoint"
   ]
  },
  {
   "cell_type": "markdown",
   "metadata": {},
   "source": [
    "#### notes/fidings:\n",
    "- simple / general / large SPARQL queries result in a 502 error\n",
    "- querying the SPARQL endpoint requires knowledge on the data model\n",
    "- there is linking to externally defined standard terms = good\n",
    "    - leveraging use of linked data \n",
    "- usage of internally defined predicates = good, but less good (see point 2)\n",
    "    - not known by external machines (e.g. dct:title vs ifremer:thisisourname)\n",
    "    - solution would require community effort to develop standard data model for described entity kinds\n",
    "- identifier for publisher information can be improved, for example 'http://www.argodatamgt.org/Data-Mgt-Team/ADMT-team-and-Executive-Committee'\n",
    "  - could alternatively use ROR-ID for institutes, ORC-ID for people\n",
    "  - currently links to just html page (no ttl or json-ld with content negotiation), could be described as linked data\n",
    "- https://co.ifremer.fr/co/argo-linked-data/doc/argo-floats.ttl#Datacenter not in the described ontology\n",
    "\n",
    "- data granularity: file level \n",
    "  - data files are 'accessible' with dcat:downloadUrl within a dcat:distribution\n",
    "  (data within file is not machine readable)"
   ]
  },
  {
   "cell_type": "code",
   "execution_count": null,
   "metadata": {},
   "outputs": [],
   "source": [
    "# Define the SPARQL endpoint URL\n",
    "sparql_endpoint_url = \"https://sparql.ifremer.fr/argo/query\"\n",
    "gdb = GDB(sparql_endpoint_url, \"endpoint_queries\")"
   ]
  },
  {
   "cell_type": "code",
   "execution_count": null,
   "metadata": {},
   "outputs": [],
   "source": [
    "# general exploration\n",
    "gdb.execute_to_df(\"general.sparql\")"
   ]
  },
  {
   "cell_type": "markdown",
   "metadata": {},
   "source": [
    "### Catalog"
   ]
  },
  {
   "cell_type": "code",
   "execution_count": null,
   "metadata": {},
   "outputs": [],
   "source": [
    "#catalog predicates\n",
    "gdb.execute_to_df(\"catalog_predicates.sparql\")"
   ]
  },
  {
   "cell_type": "code",
   "execution_count": null,
   "metadata": {},
   "outputs": [],
   "source": [
    "# catalogs \n",
    "catalog_info = gdb.execute_to_df(\"catalog-info.sparql\")\n",
    "catalog_info"
   ]
  },
  {
   "cell_type": "code",
   "execution_count": null,
   "metadata": {},
   "outputs": [],
   "source": [
    "#datasets per catalog\n",
    "catalog_datasets = gdb.execute_to_df(\"catalog-datasets.sparql\")\n",
    "catalogs = catalog_datasets.groupby('catalog').nunique()\n",
    "catalogs"
   ]
  },
  {
   "cell_type": "markdown",
   "metadata": {},
   "source": [
    "### Publisher information"
   ]
  },
  {
   "cell_type": "code",
   "execution_count": null,
   "metadata": {},
   "outputs": [],
   "source": [
    "example_publisher = catalog_info['publisher'][0]\n",
    "gdb_publisher = GDB(example_publisher, \"endpoint_queries\")\n",
    "#gdb_publisher.execute_to_df(\"general.sparql\")\n",
    "#not available as RDF"
   ]
  },
  {
   "cell_type": "code",
   "execution_count": null,
   "metadata": {},
   "outputs": [],
   "source": [
    "#gdb.execute_to_df(\"publisher.sparql\")\n",
    "#not available as RDF"
   ]
  },
  {
   "cell_type": "markdown",
   "metadata": {},
   "source": [
    "### Datasets"
   ]
  },
  {
   "cell_type": "code",
   "execution_count": null,
   "metadata": {},
   "outputs": [],
   "source": [
    "#dataset predicates\n",
    "gdb.execute_to_df(\"dataset_predicates.sparql\") "
   ]
  },
  {
   "cell_type": "code",
   "execution_count": null,
   "metadata": {},
   "outputs": [],
   "source": [
    "# datasets \n",
    "gdb.execute_to_df(\"dataset-info.sparql\")"
   ]
  },
  {
   "cell_type": "markdown",
   "metadata": {},
   "source": [
    "### Standard terms"
   ]
  },
  {
   "cell_type": "markdown",
   "metadata": {},
   "source": [
    "#### outside-institute-standard terms"
   ]
  },
  {
   "cell_type": "code",
   "execution_count": null,
   "metadata": {},
   "outputs": [],
   "source": [
    "for catalog in catalogs.index:\n",
    "    name = catalog.split('#')[-1]\n",
    "    print(name)\n",
    "    result = gdb.execute_to_df(f\"{name}-external-term.sparql\")\n",
    "    print(result.groupby(['p', 'o']).nunique())"
   ]
  },
  {
   "cell_type": "markdown",
   "metadata": {},
   "source": [
    "#### inside-institute standard-terms"
   ]
  },
  {
   "cell_type": "code",
   "execution_count": null,
   "metadata": {},
   "outputs": [],
   "source": [
    "#examples: <https://co.ifremer.fr/co/argo-linked-data/doc/argo-floats.ttl#Datacenter> OR <https://argo.ucsd.edu/data/argo-software-tools#WJO>"
   ]
  },
  {
   "cell_type": "markdown",
   "metadata": {},
   "source": [
    "### Dataset distributions \n",
    "'HTTP Error 502: Proxy Error' when querying dcat:Distribution entity itself \n"
   ]
  },
  {
   "cell_type": "code",
   "execution_count": null,
   "metadata": {},
   "outputs": [],
   "source": [
    "# distributions of datasets in meds datalog (meds catalog contains 648 datasets)\n",
    "gdb.execute_to_df(\"distribution.sparql\")\n",
    "\n",
    "for catalog in catalogs.index:\n",
    "    name = catalog.split('#')[-1]\n",
    "\n",
    "    "
   ]
  },
  {
   "cell_type": "code",
   "execution_count": null,
   "metadata": {},
   "outputs": [],
   "source": [
    "meds_distributions.groupby('p').nunique()"
   ]
  },
  {
   "cell_type": "code",
   "execution_count": null,
   "metadata": {},
   "outputs": [],
   "source": [
    "# distributions of datasets in kordi datalog (Kordi catalog contains 115 datasets)\n",
    "sparql_query = \"\"\"\n",
    "SELECT DISTINCT \n",
    "    ?p ?o\n",
    "WHERE {\n",
    "        <https://argo.ucsd.edu/data/data-from-gdacs#kordi> <http://www.w3.org/ns/dcat#dataset> ?dataset . \n",
    "        ?dataset <http://www.w3.org/ns/dcat#distribution> ?distribution . \n",
    "        ?distribution ?p ?o . \n",
    "    }\n",
    "\"\"\"\n",
    "\n",
    "kordi_distributions = query(sparql_endpoint_url, sparql_query)\n",
    "kordi_distributions"
   ]
  },
  {
   "cell_type": "code",
   "execution_count": null,
   "metadata": {},
   "outputs": [],
   "source": [
    "distribution_predicates = kordi_distributions.groupby('p').nunique()\n",
    "distribution_predicates"
   ]
  }
 ],
 "metadata": {
  "kernelspec": {
   "display_name": "Python 3 (ipykernel)",
   "language": "python",
   "name": "python3"
  },
  "language_info": {
   "codemirror_mode": {
    "name": "ipython",
    "version": 3
   },
   "file_extension": ".py",
   "mimetype": "text/x-python",
   "name": "python",
   "nbconvert_exporter": "python",
   "pygments_lexer": "ipython3",
   "version": "3.11.6"
  }
 },
 "nbformat": 4,
 "nbformat_minor": 4
}
