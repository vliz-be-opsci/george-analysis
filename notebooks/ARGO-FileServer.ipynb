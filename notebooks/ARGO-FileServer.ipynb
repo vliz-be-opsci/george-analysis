{
 "cells": [
  {
   "cell_type": "code",
   "execution_count": 1,
   "id": "4e5f5fe6-b7f7-4633-ad37-ebea401d65fa",
   "metadata": {},
   "outputs": [],
   "source": [
    "import pandas as pd"
   ]
  },
  {
   "cell_type": "markdown",
   "id": "b0e56b08-4542-4cf3-8054-1ce7a805b76b",
   "metadata": {},
   "source": [
    "### Argo HTML file server"
   ]
  },
  {
   "cell_type": "code",
   "execution_count": 1,
   "id": "8136ce7d-06ad-4936-84e3-c24405767fe1",
   "metadata": {},
   "outputs": [],
   "source": [
    "argo_url = \"https://data-argo.ifremer.fr/\""
   ]
  },
  {
   "cell_type": "markdown",
   "id": "74de78bb",
   "metadata": {},
   "source": [
    "#### Notes/findings:\n",
    "- file server, navigatable via html hrefs\n",
    "- looks like intended for human navigation\n",
    "- requires knowledge on the data model\n",
    "- file metadata is limited\n",
    "  - doesn't describe the content of the files\n",
    "  - semantics are not clear\n",
    "    - often use of codes (e.g. ocean, parameters, ...)\n",
    "    - limited use/no reference to standard terms\n",
    "- data granularity goes up to data point level (but requires combining base-url and paths mentioned in the files)"
   ]
  },
  {
   "cell_type": "markdown",
   "id": "a3817d67",
   "metadata": {},
   "source": [
    "### AWS S3 bucket"
   ]
  },
  {
   "cell_type": "code",
   "execution_count": null,
   "id": "5e69bc16",
   "metadata": {},
   "outputs": [],
   "source": [
    "#exploration: https://argo-gdac-sandbox.s3.eu-west-3.amazonaws.com/pub/index.html#pub/"
   ]
  },
  {
   "cell_type": "markdown",
   "id": "7991f216",
   "metadata": {},
   "source": [
    "#### Notes/findings:\n",
    "- same file server, accessible via AWS S3 bucket\n",
    "- requires knowledge on accessing / navigating AWS S3 buckets\n",
    "- open available\n",
    "- data granularity goes up to file level"
   ]
  }
 ],
 "metadata": {
  "kernelspec": {
   "display_name": "Python 3 (ipykernel)",
   "language": "python",
   "name": "python3"
  },
  "language_info": {
   "codemirror_mode": {
    "name": "ipython",
    "version": 3
   },
   "file_extension": ".py",
   "mimetype": "text/x-python",
   "name": "python",
   "nbconvert_exporter": "python",
   "pygments_lexer": "ipython3",
   "version": "3.11.6"
  }
 },
 "nbformat": 4,
 "nbformat_minor": 5
}
