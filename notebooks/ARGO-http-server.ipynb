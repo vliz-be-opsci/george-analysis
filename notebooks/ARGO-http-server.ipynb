{
 "cells": [
  {
   "cell_type": "code",
   "execution_count": 1,
   "id": "4e5f5fe6-b7f7-4633-ad37-ebea401d65fa",
   "metadata": {},
   "outputs": [],
   "source": [
    "from connec_functions import execute_to_df, generate_sparql\n",
    "import pandas as pd"
   ]
  },
  {
   "cell_type": "markdown",
   "id": "b0e56b08-4542-4cf3-8054-1ce7a805b76b",
   "metadata": {},
   "source": [
    "### ANALYSIS"
   ]
  },
  {
   "cell_type": "code",
   "execution_count": 1,
   "id": "8136ce7d-06ad-4936-84e3-c24405767fe1",
   "metadata": {},
   "outputs": [],
   "source": [
    "argo_url = \"https://data-argo.ifremer.fr/\""
   ]
  },
  {
   "cell_type": "code",
   "execution_count": null,
   "id": "2e8582ac-10cb-484b-b9f8-513ef5a29497",
   "metadata": {},
   "outputs": [],
   "source": []
  }
 ],
 "metadata": {
  "kernelspec": {
   "display_name": "Python 3 (ipykernel)",
   "language": "python",
   "name": "python3"
  },
  "language_info": {
   "codemirror_mode": {
    "name": "ipython",
    "version": 3
   },
   "file_extension": ".py",
   "mimetype": "text/x-python",
   "name": "python",
   "nbconvert_exporter": "python",
   "pygments_lexer": "ipython3",
   "version": "3.11.6"
  }
 },
 "nbformat": 4,
 "nbformat_minor": 5
}
