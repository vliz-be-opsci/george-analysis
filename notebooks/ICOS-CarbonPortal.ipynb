{
 "cells": [
  {
   "cell_type": "code",
   "execution_count": 1,
   "id": "4e5f5fe6-b7f7-4633-ad37-ebea401d65fa",
   "metadata": {},
   "outputs": [],
   "source": [
    "import pandas as pd"
   ]
  },
  {
   "cell_type": "markdown",
   "id": "b0e56b08-4542-4cf3-8054-1ce7a805b76b",
   "metadata": {},
   "source": [
    "### ICOS Carbon Portal"
   ]
  },
  {
   "cell_type": "code",
   "execution_count": 1,
   "id": "8136ce7d-06ad-4936-84e3-c24405767fe1",
   "metadata": {},
   "outputs": [],
   "source": [
    "icos_url = \"https://data.icos-cp.eu/portal/\""
   ]
  },
  {
   "cell_type": "markdown",
   "id": "74de78bb",
   "metadata": {},
   "source": [
    "#### Notes/findings:\n",
    "- 'classic' data portal --> intended for human navigation, not machine accessible\n",
    "- semantics of search fields is clarified with '?' icons - though no reference to standard terms here\n",
    "- metadata included links of \n",
    "  - ICOS entities (e.g. description of ICOS project itself) \n",
    "  - license\n",
    "  - ...\n",
    "- metadata of record is downloadable in various formats (including RDF/Turtle)\n",
    "- RDF/Turtle file of metadata:\n",
    "  - limited description, not all info available in html view is described in triples\n",
    "  - uses self-defined ontology rather than community standard ontologies such as prov-o, dcat, ... \n",
    "    - not known by machine upfront\n",
    "    - requires getting to know the data model, location of ontology file, ...\n",
    "  - "
   ]
  },
  {
   "cell_type": "markdown",
   "id": "a3817d67",
   "metadata": {},
   "source": [
    "### ICOS Carbon Portal SPARQL Endpoint"
   ]
  },
  {
   "cell_type": "code",
   "execution_count": null,
   "id": "5e69bc16",
   "metadata": {},
   "outputs": [],
   "source": [
    "#exploration: https://argo-gdac-sandbox.s3.eu-west-3.amazonaws.com/pub/index.html#pub/"
   ]
  },
  {
   "cell_type": "markdown",
   "id": "7991f216",
   "metadata": {},
   "source": [
    "#### Notes/findings:\n",
    "- RDF ~ data standardized\n",
    "- Entities described with internally defined ontologies\n",
    "  - requires knowledge on the location of the ontologies / vocabularies and getting to know them ~~ less machine interoperable\n",
    "  - dcat description also available, though limited in information (other descriptions also available) \n",
    "- general queries take long time to run\n",
    "- there is a set per-minute query quota  "
   ]
  }
 ],
 "metadata": {
  "kernelspec": {
   "display_name": "Python 3 (ipykernel)",
   "language": "python",
   "name": "python3"
  },
  "language_info": {
   "codemirror_mode": {
    "name": "ipython",
    "version": 3
   },
   "file_extension": ".py",
   "mimetype": "text/x-python",
   "name": "python",
   "nbconvert_exporter": "python",
   "pygments_lexer": "ipython3",
   "version": "3.11.6"
  }
 },
 "nbformat": 4,
 "nbformat_minor": 5
}
