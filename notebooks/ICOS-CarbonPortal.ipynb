{
 "cells": [
  {
   "cell_type": "code",
   "execution_count": 1,
   "id": "4e5f5fe6-b7f7-4633-ad37-ebea401d65fa",
   "metadata": {},
   "outputs": [],
   "source": [
    "import pandas as pd\n",
    "from connec_functions import GDB\n",
    "import requests\n",
    "\n",
    "from accessibility import check_endpoint"
   ]
  },
  {
   "cell_type": "markdown",
   "id": "b0e56b08-4542-4cf3-8054-1ce7a805b76b",
   "metadata": {},
   "source": [
    "### ICOS Carbon Portal"
   ]
  },
  {
   "cell_type": "code",
   "execution_count": 2,
   "id": "8136ce7d-06ad-4936-84e3-c24405767fe1",
   "metadata": {},
   "outputs": [],
   "source": [
    "# analysed endpoint\n",
    "icos_url = \"https://data.icos-cp.eu/portal/\"\n",
    "\n",
    "#focus on the Ocean Data (Theme in data portal)\n",
    "# https://data.icos-cp.eu/portal/#%7B%22filterCategories%22%3A%7B%22project%22%3A%5B%22icos%22%5D%2C%22level%22%3A%5B1%2C2%5D%2C%22stationclass%22%3A%5B%22ICOS%22%5D%2C%22theme%22%3A%5B%22ocean%22%5D%7D%7D\n"
   ]
  },
  {
   "cell_type": "code",
   "execution_count": 3,
   "id": "4de6348e",
   "metadata": {},
   "outputs": [
    {
     "name": "stdout",
     "output_type": "stream",
     "text": [
      "Checking endpoint: https://data.icos-cp.eu/portal/\n",
      "Endpoint is online: 200\n",
      "Content type may not be machine-readable: text/html; charset=UTF-8\n",
      "The endpoint is machine-accessible.\n"
     ]
    }
   ],
   "source": [
    "if check_endpoint(icos_url):\n",
    "    print(\"The endpoint is machine-accessible.\")\n",
    "else:\n",
    "    print(\"The endpoint is not machine-accessible.\")"
   ]
  },
  {
   "cell_type": "markdown",
   "id": "2ac32915",
   "metadata": {},
   "source": [
    "### Analysis results:\n",
    "\n",
    "- 'typical' data portal \n",
    "  --> intended for human navigation, not machine accessible\n",
    "\n",
    "- search fiels  \n",
    "  - list of terms to choose from\n",
    "  - meaning/semantics clarified with '?' icons where applicable (no reference to URI of standard terms yet)  \n",
    "  \n",
    "- metadata:  \n",
    "  - licenses:\n",
    "    - use of well known standard licenses (CCBY)  \n",
    "  - entities such as data affiliation, station, ...:  \n",
    "    - defined via standard terms, in own namespace (but makes sense in this context)  \n",
    "    - would be nice if those entities would have rdf, json, ttl, jsonld serializations (now only html available?)  \n",
    "  - record downloadable in various formats, including RDF/turtle\n",
    "  \n",
    "    - rdf/turtle file of metadata:  \n",
    "      - only limited description; compared to html not all info is described in triples, (only the self-defined terms?)  \n",
    "      - uses self-defined ontology rather than community standard ontologies such as prov-o, dcat,...  \n",
    "        - put data silo, because requires previous knowledge on existence of ontlogy & structure before being able to handle the data  \n",
    "      - more information available in JSON output format     \n",
    "        - keys similar or seems to follow schema.org model.., so could add '@context' to convert to linked data   \n",
    "\n",
    " "
   ]
  }
 ],
 "metadata": {
  "kernelspec": {
   "display_name": "Python 3 (ipykernel)",
   "language": "python",
   "name": "python3"
  },
  "language_info": {
   "codemirror_mode": {
    "name": "ipython",
    "version": 3
   },
   "file_extension": ".py",
   "mimetype": "text/x-python",
   "name": "python",
   "nbconvert_exporter": "python",
   "pygments_lexer": "ipython3",
   "version": "3.10.12"
  }
 },
 "nbformat": 4,
 "nbformat_minor": 5
}
