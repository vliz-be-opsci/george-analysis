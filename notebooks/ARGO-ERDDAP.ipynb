{
 "cells": [
  {
   "cell_type": "code",
   "execution_count": 1,
   "id": "4e5f5fe6-b7f7-4633-ad37-ebea401d65fa",
   "metadata": {},
   "outputs": [],
   "source": [
    "from erddapy import ERDDAP\n",
    "import pandas as pd\n",
    "import requests\n",
    "import netCDF4 as nc\n",
    "from collections import defaultdict\n",
    "\n",
    "from accessibility import check_endpoint\n",
    "from summarize import * #json_keys, data_frame"
   ]
  },
  {
   "cell_type": "markdown",
   "id": "a3817d67",
   "metadata": {},
   "source": [
    "### ARGO ERDDAP server"
   ]
  },
  {
   "cell_type": "code",
   "execution_count": 2,
   "id": "8c1c0c18",
   "metadata": {},
   "outputs": [],
   "source": [
    "# analysed endpoint: \n",
    "endpoint_url = \"https://erddap.ifremer.fr/erddap\"\n",
    "\n",
    "#connect to server\n",
    "argoERDDAP = ERDDAP(server=endpoint_url,protocol=\"tabledap\")"
   ]
  },
  {
   "cell_type": "code",
   "execution_count": null,
   "id": "1fa240bd",
   "metadata": {},
   "outputs": [],
   "source": [
    "if check_endpoint(endpoint_url):\n",
    "    print(\"The endpoint is machine-accessible.\")\n",
    "else:\n",
    "    print(\"The endpoint is not machine-accessible.\")"
   ]
  },
  {
   "cell_type": "markdown",
   "id": "f54aee65",
   "metadata": {},
   "source": [
    "### Analysis results:\n",
    "\n",
    "- data is findable, not always accessible \n",
    "    - for some listed datasets: an additional step is needed to open the actual netCDF files \n",
    "    (though the documentation mentions this is \"OpenDAP on top of NetCDF files\" still extra step needed)\n",
    "    - at moment of running the code, some datasets were not accessible \n",
    "    - 'log in' column in 'allDatasets' dataset indicates that not all data is freely available\n",
    "\n",
    "- data granularity\n",
    "    - some datasets (e.g. ArgaFloats) contain file paths in 'file' column --> retrieval of actual data requires additional steps\n",
    "    - other datasets directly return measurement data\n",
    "      \n",
    "\n",
    "- semantics:\n",
    "    - interoperability at higher level --> allDatasets dataset offers metadata about the datasets that are available through the ERDDAP server. Properties/columns used to describe this metadata are the same as in other ERDDAP servers (eg. the EMSO-ERIC ERDDAP server).  \n",
    "    - other datasets offered by ERDDAP server contain different properties --> similar columns/properties but not defined through external standard terms\n",
    "        - more prone towards wrongly combining different data  \n",
    "\n"
   ]
  },
  {
   "cell_type": "markdown",
   "id": "dd9cf2df",
   "metadata": {},
   "source": [
    "**Exploration of the allDatasets dataset**  \n",
    "~ retrieving a dataset that lists all available datasets on the ERDDAP server. The returned DataFrame will contain metadata for each dataset available on that server  \n",
    "~ essentially a catalog of all datasets hosted on the server, including essential metadata that allows you to identify and filter the datasets of interest  "
   ]
  },
  {
   "cell_type": "code",
   "execution_count": 3,
   "id": "e423fe03",
   "metadata": {},
   "outputs": [],
   "source": [
    "#Set a dataset ID\n",
    "argoERDDAP.dataset_id = \"allDatasets\"\n",
    "\n",
    "#Get data (as 2D dataframe)\n",
    "argoERDDAP_allDatasets_df = argoERDDAP.to_pandas()"
   ]
  },
  {
   "cell_type": "code",
   "execution_count": null,
   "id": "d665d083",
   "metadata": {},
   "outputs": [],
   "source": [
    "#explore columns\n",
    "argoERDDAP_allDatasets_df.columns"
   ]
  },
  {
   "cell_type": "code",
   "execution_count": null,
   "id": "6a5ee912",
   "metadata": {},
   "outputs": [],
   "source": [
    "#view \n",
    "argoERDDAP_allDatasets_df\n",
    "# save\n",
    "argoERDDAP_allDatasets_df.to_csv(\"properties/ARGO_ERDDAP_overview_metadata.csv\", index=False)"
   ]
  },
  {
   "cell_type": "code",
   "execution_count": null,
   "id": "816f4d86",
   "metadata": {},
   "outputs": [],
   "source": [
    "# other metadata (~written metadata, intended for human reading?) available with df.summary\n",
    "argoERDDAP_allDatasets_df.summary"
   ]
  },
  {
   "cell_type": "markdown",
   "id": "34f3be2d",
   "metadata": {},
   "source": [
    "Exploration of **search information** for each data offered through the ERDDAP server"
   ]
  },
  {
   "cell_type": "code",
   "execution_count": null,
   "id": "7294174c",
   "metadata": {},
   "outputs": [],
   "source": [
    "# get search information\n",
    "searchinfo_df = pd.read_csv(argoERDDAP.get_search_url(response=\"csv\"))"
   ]
  },
  {
   "cell_type": "code",
   "execution_count": null,
   "id": "ad5f733b",
   "metadata": {},
   "outputs": [],
   "source": [
    "searchinfo_df.columns"
   ]
  },
  {
   "cell_type": "code",
   "execution_count": null,
   "id": "7c1644d1",
   "metadata": {},
   "outputs": [],
   "source": [
    "searchinfo_df"
   ]
  },
  {
   "cell_type": "markdown",
   "id": "a15e7e85",
   "metadata": {},
   "source": [
    "Exploration of **metadata** available for each dataset offered through the ERDDAP server"
   ]
  },
  {
   "cell_type": "code",
   "execution_count": null,
   "id": "cb730faf",
   "metadata": {},
   "outputs": [],
   "source": [
    "# Metadata information for each dataset\n",
    "metadatainfo_df = pd.DataFrame(columns=[\"Row Type\", \"Variable Name\", \"Attribute Name\", \"Data Type\", \"Value\", \"DatasetID\"])\n",
    "# get metadata for each dataset\n",
    "for datasetID in argoERDDAP_allDatasets_df['datasetID']:\n",
    "    argoERDDAP.dataset_id = datasetID\n",
    "    try:\n",
    "        _df = pd.read_csv(argoERDDAP.get_info_url(response=\"csv\")) #metadata retrieved via info_url\n",
    "        _df[\"DatasetID\"] = datasetID\n",
    "        metadatainfo_df = pd.concat([metadatainfo_df, _df], ignore_index=True)\n",
    "    except Exception as e:\n",
    "        print(f\"there was an error for {datasetID}: '{e}'\")\n",
    "        continue\n",
    "\n",
    "# save to csv file\n",
    "metadatainfo_df.to_csv(\"properties/ARGO_ERDDAP_dataset_metadata.csv\", index=False)\n",
    "\n",
    "metadatainfo_df"
   ]
  },
  {
   "cell_type": "code",
   "execution_count": null,
   "id": "4db2a814",
   "metadata": {},
   "outputs": [],
   "source": [
    "# explore returned metadata\n",
    "metadatainfo_df.groupby(['DatasetID', 'Row Type']).nunique()"
   ]
  },
  {
   "cell_type": "code",
   "execution_count": null,
   "id": "91b7666f",
   "metadata": {},
   "outputs": [],
   "source": [
    "# Explore the dimensions of each dataset (Row Type = 'dimension')\n",
    "dim_info = metadatainfo_df[ metadatainfo_df['Row Type'] == 'dimension'].groupby(['DatasetID', 'Variable Name']).nunique()\n",
    "\n",
    "dim_info.to_csv(\"properties/ARGO_ERDDAP_dataset_dimensions.csv\", index=False)\n",
    "\n",
    "dim_info"
   ]
  },
  {
   "cell_type": "code",
   "execution_count": null,
   "id": "c446c177",
   "metadata": {},
   "outputs": [],
   "source": [
    "# Explore the variables of each dataset (Row Type = 'variable')\n",
    "#note: in netCDFs, attributes represent additional information \n",
    "var_info = metadatainfo_df[ metadatainfo_df['Row Type'] == 'variable'].groupby(['DatasetID', 'Variable Name']).nunique()\n",
    "\n",
    "var_info.to_csv(\"properties/ARGO_ERDDAP_dataset_variables.csv\", index=False)\n",
    "\n",
    "var_info"
   ]
  },
  {
   "cell_type": "code",
   "execution_count": null,
   "id": "2ea18fb9",
   "metadata": {},
   "outputs": [],
   "source": [
    "# Explore the attributes of each dataset (Row Type = 'attribute')\n",
    "metadatainfo_df[ metadatainfo_df['Row Type'] == 'attribute'].groupby(['DatasetID', 'Attribute Name']).nunique()"
   ]
  },
  {
   "cell_type": "code",
   "execution_count": null,
   "id": "e1d5f8cf",
   "metadata": {},
   "outputs": [],
   "source": [
    "# and the variables/dimensions with which they're associated \n",
    "attr_info = metadatainfo_df[ metadatainfo_df['Row Type'] == 'attribute'].groupby(['DatasetID', 'Attribute Name', 'Variable Name']).nunique()\n",
    "\n",
    "attr_info.to_csv(\"properties/ARGO_ERDDAP_dataset_attributes.csv\", index=False)\n",
    "\n",
    "attr_info"
   ]
  },
  {
   "cell_type": "markdown",
   "id": "c013622b",
   "metadata": {},
   "source": [
    "Exploration of **data** available for each dataset offered through the ERDDAP server, by accessing as pd.DataFrame  \n",
    "(less efficient than accessing as ncCF)"
   ]
  },
  {
   "cell_type": "code",
   "execution_count": 4,
   "id": "ad7618ff",
   "metadata": {},
   "outputs": [
    {
     "name": "stdout",
     "output_type": "stream",
     "text": [
      "there are 53 datasets available via ARGO ERDDAP\n",
      "Processing dataset: allDatasets\n",
      "Processing dataset: OACP-Argo-Global\n",
      "There was an error for OACP-Argo-Global: Error {\n",
      "    code=404;\n",
      "    message=\"Not Found: Currently unknown datasetID=OACP-Argo-Global\";\n",
      "}\n",
      "\n",
      "Processing dataset: ArgoFloats\n"
     ]
    }
   ],
   "source": [
    "#list datasets\n",
    "print(f\"there are {len(argoERDDAP_allDatasets_df['datasetID'].drop_duplicates())} datasets available via ARGO ERDDAP\")\n",
    "\n",
    "# Connect to server \n",
    "erddap = ERDDAP(server=\"https://erddap.ifremer.fr/erddap\", protocol=\"tabledap\")\n",
    "\n",
    "df_summary_full = pd.DataFrame(columns=[\"DatasetID\", \"Property\", \"Count\", \"Types\", \"Example\"])\n",
    "#first half (otherwise code takes too long to run)\n",
    "for datasetID in argoERDDAP_allDatasets_df['datasetID'][:len(argoERDDAP_allDatasets_df) // 2]:\n",
    "    print(f\"Processing dataset: {datasetID}\")\n",
    "    \n",
    "    try:\n",
    "        # Set the dataset ID\n",
    "        erddap.dataset_id = datasetID\n",
    "        \n",
    "        # Fetch data as a 2D dataframe with timeout handling\n",
    "        dataset_df = erddap.to_pandas()\n",
    "        \n",
    "        # Process data        \n",
    "        df_summary = data_frame(dataset_df, datasetID)\n",
    "        df_summary_full = pd.concat([df_summary_full, df_summary], ignore_index=True)\n",
    "        df_summary_full.to_csv(\"properties/ARGO_ERDDAP_dataset_data.csv\", index=False)\n",
    "    except Exception as e:\n",
    "        print(f\"There was an error for {datasetID}: {e}\")\n",
    "\n",
    "df_summary_full\n",
    "\n",
    "#Property ~ variables (attributes & dimensions not clear)"
   ]
  },
  {
   "cell_type": "markdown",
   "id": "52c7e3a2",
   "metadata": {},
   "source": [
    "Extra step needed to retrieve actual data"
   ]
  },
  {
   "cell_type": "code",
   "execution_count": null,
   "id": "1152111f",
   "metadata": {},
   "outputs": [],
   "source": []
  },
  {
   "cell_type": "code",
   "execution_count": null,
   "id": "e7b43b76",
   "metadata": {},
   "outputs": [],
   "source": []
  }
 ],
 "metadata": {
  "kernelspec": {
   "display_name": "Python 3 (ipykernel)",
   "language": "python",
   "name": "python3"
  },
  "language_info": {
   "codemirror_mode": {
    "name": "ipython",
    "version": 3
   },
   "file_extension": ".py",
   "mimetype": "text/x-python",
   "name": "python",
   "nbconvert_exporter": "python",
   "pygments_lexer": "ipython3",
   "version": "3.10.12"
  }
 },
 "nbformat": 4,
 "nbformat_minor": 5
}
